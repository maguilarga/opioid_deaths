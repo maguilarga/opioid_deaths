{
 "cells": [
  {
   "cell_type": "code",
   "execution_count": 2,
   "metadata": {},
   "outputs": [],
   "source": [
    "#Dependencies: \n",
    "%matplotlib inline\n",
    "import matplotlib.pyplot as plt\n",
    "import numpy as np\n",
    "import pandas as pd\n",
    "from datetime import datetime as dt\n",
    "import time \n",
    "import calendar\n",
    "from numpy import array"
   ]
  },
  {
   "cell_type": "code",
   "execution_count": 3,
   "metadata": {
    "scrolled": true
   },
   "outputs": [
    {
     "data": {
      "text/html": [
       "<div>\n",
       "<style scoped>\n",
       "    .dataframe tbody tr th:only-of-type {\n",
       "        vertical-align: middle;\n",
       "    }\n",
       "\n",
       "    .dataframe tbody tr th {\n",
       "        vertical-align: top;\n",
       "    }\n",
       "\n",
       "    .dataframe thead th {\n",
       "        text-align: right;\n",
       "    }\n",
       "</style>\n",
       "<table border=\"1\" class=\"dataframe\">\n",
       "  <thead>\n",
       "    <tr style=\"text-align: right;\">\n",
       "      <th></th>\n",
       "      <th>ID</th>\n",
       "      <th>Date</th>\n",
       "      <th>Age</th>\n",
       "      <th>Sex</th>\n",
       "      <th>Race</th>\n",
       "      <th>ResidenceCity</th>\n",
       "      <th>ResidenceCounty</th>\n",
       "      <th>ResidenceState</th>\n",
       "      <th>DeathCity</th>\n",
       "      <th>DeathCounty</th>\n",
       "      <th>...</th>\n",
       "      <th>InjuryCounty</th>\n",
       "      <th>InjuryState</th>\n",
       "      <th>COD</th>\n",
       "      <th>Heroin</th>\n",
       "      <th>Synthetic Opioids</th>\n",
       "      <th>Prescription Opioids</th>\n",
       "      <th>DeathCityGeo</th>\n",
       "      <th>DeathCityLat</th>\n",
       "      <th>DeathCityLong</th>\n",
       "      <th>Drug_Category</th>\n",
       "    </tr>\n",
       "  </thead>\n",
       "  <tbody>\n",
       "    <tr>\n",
       "      <th>0</th>\n",
       "      <td>14-0273</td>\n",
       "      <td>06/28/2014 12:00:00 AM</td>\n",
       "      <td>NaN</td>\n",
       "      <td>NaN</td>\n",
       "      <td>NaN</td>\n",
       "      <td>NaN</td>\n",
       "      <td>NaN</td>\n",
       "      <td>NaN</td>\n",
       "      <td>NaN</td>\n",
       "      <td>NaN</td>\n",
       "      <td>...</td>\n",
       "      <td>NaN</td>\n",
       "      <td>NaN</td>\n",
       "      <td>Acute fent, hydrocod, benzodiazepine</td>\n",
       "      <td>False</td>\n",
       "      <td>True</td>\n",
       "      <td>True</td>\n",
       "      <td>41.575155, -72.738288</td>\n",
       "      <td>41.575155</td>\n",
       "      <td>-72.738288</td>\n",
       "      <td>Synthetic Opioids</td>\n",
       "    </tr>\n",
       "    <tr>\n",
       "      <th>1</th>\n",
       "      <td>16-0165</td>\n",
       "      <td>03/13/2016 12:00:00 AM</td>\n",
       "      <td>30.0</td>\n",
       "      <td>Female</td>\n",
       "      <td>White</td>\n",
       "      <td>SANDY HOOK</td>\n",
       "      <td>FAIRFIELD</td>\n",
       "      <td>CT</td>\n",
       "      <td>DANBURY</td>\n",
       "      <td>NaN</td>\n",
       "      <td>...</td>\n",
       "      <td>NaN</td>\n",
       "      <td>NaN</td>\n",
       "      <td>Acute Heroin and Cocaine Intoxication</td>\n",
       "      <td>True</td>\n",
       "      <td>False</td>\n",
       "      <td>False</td>\n",
       "      <td>41.393666, -73.451539</td>\n",
       "      <td>41.393666</td>\n",
       "      <td>-73.451539</td>\n",
       "      <td>Heroin</td>\n",
       "    </tr>\n",
       "    <tr>\n",
       "      <th>2</th>\n",
       "      <td>16-0208</td>\n",
       "      <td>03/31/2016 12:00:00 AM</td>\n",
       "      <td>23.0</td>\n",
       "      <td>Male</td>\n",
       "      <td>White</td>\n",
       "      <td>RYE</td>\n",
       "      <td>WESTCHESTER</td>\n",
       "      <td>NY</td>\n",
       "      <td>GREENWICH</td>\n",
       "      <td>NaN</td>\n",
       "      <td>...</td>\n",
       "      <td>NaN</td>\n",
       "      <td>NaN</td>\n",
       "      <td>Acute Fentanyl and Morphine Intoxication</td>\n",
       "      <td>True</td>\n",
       "      <td>True</td>\n",
       "      <td>False</td>\n",
       "      <td>41.026526, -73.628549</td>\n",
       "      <td>41.026526</td>\n",
       "      <td>-73.628549</td>\n",
       "      <td>Heroin</td>\n",
       "    </tr>\n",
       "    <tr>\n",
       "      <th>3</th>\n",
       "      <td>13-0052</td>\n",
       "      <td>02/13/2013 12:00:00 AM</td>\n",
       "      <td>22.0</td>\n",
       "      <td>Male</td>\n",
       "      <td>Asian, Other</td>\n",
       "      <td>FLUSHING</td>\n",
       "      <td>QUEENS</td>\n",
       "      <td>NaN</td>\n",
       "      <td>GREENWICH</td>\n",
       "      <td>FAIRFIELD</td>\n",
       "      <td>...</td>\n",
       "      <td>NaN</td>\n",
       "      <td>NaN</td>\n",
       "      <td>Fentanyl Intoxication</td>\n",
       "      <td>False</td>\n",
       "      <td>True</td>\n",
       "      <td>False</td>\n",
       "      <td>41.026526, -73.628549</td>\n",
       "      <td>41.026526</td>\n",
       "      <td>-73.628549</td>\n",
       "      <td>Synthetic Opioids</td>\n",
       "    </tr>\n",
       "    <tr>\n",
       "      <th>4</th>\n",
       "      <td>14-0277</td>\n",
       "      <td>06/29/2014 12:00:00 AM</td>\n",
       "      <td>23.0</td>\n",
       "      <td>Male</td>\n",
       "      <td>White</td>\n",
       "      <td>BRISTOL</td>\n",
       "      <td>NaN</td>\n",
       "      <td>NaN</td>\n",
       "      <td>BRISTOL</td>\n",
       "      <td>HARTFORD</td>\n",
       "      <td>...</td>\n",
       "      <td>NaN</td>\n",
       "      <td>NaN</td>\n",
       "      <td>Heroin Intoxication</td>\n",
       "      <td>True</td>\n",
       "      <td>False</td>\n",
       "      <td>False</td>\n",
       "      <td>41.673037, -72.945791</td>\n",
       "      <td>41.673037</td>\n",
       "      <td>-72.945791</td>\n",
       "      <td>Heroin</td>\n",
       "    </tr>\n",
       "  </tbody>\n",
       "</table>\n",
       "<p>5 rows × 25 columns</p>\n",
       "</div>"
      ],
      "text/plain": [
       "        ID                    Date   Age     Sex          Race ResidenceCity  \\\n",
       "0  14-0273  06/28/2014 12:00:00 AM   NaN     NaN           NaN           NaN   \n",
       "1  16-0165  03/13/2016 12:00:00 AM  30.0  Female         White    SANDY HOOK   \n",
       "2  16-0208  03/31/2016 12:00:00 AM  23.0    Male         White           RYE   \n",
       "3  13-0052  02/13/2013 12:00:00 AM  22.0    Male  Asian, Other      FLUSHING   \n",
       "4  14-0277  06/29/2014 12:00:00 AM  23.0    Male         White       BRISTOL   \n",
       "\n",
       "  ResidenceCounty ResidenceState  DeathCity DeathCounty  ... InjuryCounty  \\\n",
       "0             NaN            NaN        NaN         NaN  ...          NaN   \n",
       "1       FAIRFIELD             CT    DANBURY         NaN  ...          NaN   \n",
       "2     WESTCHESTER             NY  GREENWICH         NaN  ...          NaN   \n",
       "3          QUEENS            NaN  GREENWICH   FAIRFIELD  ...          NaN   \n",
       "4             NaN            NaN    BRISTOL    HARTFORD  ...          NaN   \n",
       "\n",
       "  InjuryState                                       COD Heroin  \\\n",
       "0         NaN      Acute fent, hydrocod, benzodiazepine  False   \n",
       "1         NaN     Acute Heroin and Cocaine Intoxication   True   \n",
       "2         NaN  Acute Fentanyl and Morphine Intoxication   True   \n",
       "3         NaN                     Fentanyl Intoxication  False   \n",
       "4         NaN                       Heroin Intoxication   True   \n",
       "\n",
       "  Synthetic Opioids Prescription Opioids           DeathCityGeo DeathCityLat  \\\n",
       "0              True                 True  41.575155, -72.738288    41.575155   \n",
       "1             False                False  41.393666, -73.451539    41.393666   \n",
       "2              True                False  41.026526, -73.628549    41.026526   \n",
       "3              True                False  41.026526, -73.628549    41.026526   \n",
       "4             False                False  41.673037, -72.945791    41.673037   \n",
       "\n",
       "   DeathCityLong      Drug_Category  \n",
       "0     -72.738288  Synthetic Opioids  \n",
       "1     -73.451539             Heroin  \n",
       "2     -73.628549             Heroin  \n",
       "3     -73.628549  Synthetic Opioids  \n",
       "4     -72.945791             Heroin  \n",
       "\n",
       "[5 rows x 25 columns]"
      ]
     },
     "execution_count": 3,
     "metadata": {},
     "output_type": "execute_result"
    }
   ],
   "source": [
    "#Import Data: \n",
    "df=pd.read_csv('./Data/Opioid_Related_Deaths_2012-2018.csv')\n",
    "df.head()"
   ]
  },
  {
   "cell_type": "code",
   "execution_count": 6,
   "metadata": {},
   "outputs": [],
   "source": [
    "df.index = pd.to_datetime(df['Date'],infer_datetime_format=True)"
   ]
  },
  {
   "cell_type": "code",
   "execution_count": 7,
   "metadata": {},
   "outputs": [],
   "source": [
    "# extract time series\n",
    "time_series_data = df.groupby(pd.Grouper(freq='M')).count()[\"ID\"]"
   ]
  },
  {
   "cell_type": "code",
   "execution_count": 8,
   "metadata": {},
   "outputs": [
    {
     "data": {
      "image/png": "[encoded data removed]",
      "text/plain": [
       "<Figure size 432x288 with 1 Axes>"
      ]
     },
     "metadata": {
      "needs_background": "light"
     },
     "output_type": "display_data"
    }
   ],
   "source": [
    "# plot\n",
    "plt.plot(time_series_data.values)\n",
    "plt.show()"
   ]
  },
  {
   "cell_type": "code",
   "execution_count": 9,
   "metadata": {},
   "outputs": [],
   "source": [
    "#--ARIMA TIME!!-------\n",
    "\n",
    "from statsmodels.tsa.arima_model import ARIMA\n",
    "\n",
    "X_train = list(time_series_data.values)\n",
    "predictions = []"
   ]
  },
  {
   "cell_type": "code",
   "execution_count": 10,
   "metadata": {},
   "outputs": [],
   "source": [
    "# forecast the next 50 data points\n",
    "for _ in range(50):\n",
    "    model = ARIMA(X_train, order=(5,1,0))\n",
    "    model_fit = model.fit(disp=False)\n",
    "    output = model_fit.forecast()\n",
    "    y_hat = output[0] # new forecasted data point\n",
    "    predictions.append(y_hat)\n",
    "    X_train.append(y_hat) \n",
    "    # ^^add forecasted data point back to X_train to train model in the next round"
   ]
  },
  {
   "cell_type": "code",
   "execution_count": 11,
   "metadata": {},
   "outputs": [
    {
     "data": {
      "image/png": "[encoded data removed]",
      "text/plain": [
       "<Figure size 432x288 with 1 Axes>"
      ]
     },
     "metadata": {
      "needs_background": "light"
     },
     "output_type": "display_data"
    }
   ],
   "source": [
    "# plot\n",
    "plt.plot(range(len(time_series_data.values)), time_series_data.values, color='blue', label='History data')\n",
    "plt.plot(range(len(time_series_data.values), len(time_series_data.values) + len(predictions)), predictions, color='red', label='Forecasted data')\n",
    "plt.legend()\n",
    "plt.show()"
   ]
  },
  {
   "cell_type": "code",
   "execution_count": 14,
   "metadata": {},
   "outputs": [
    {
     "name": "stderr",
     "output_type": "stream",
     "text": [
      "Using TensorFlow backend.\n"
     ]
    }
   ],
   "source": [
    "#-----LSTM------\n",
    "from keras.models import Sequential\n",
    "from keras.layers import Dense\n",
    "from keras.layers import LSTM\n",
    "from sklearn.preprocessing import MinMaxScaler\n",
    "\n",
    "look_back = 40 # look back 40 data points (months) to make prediction"
   ]
  },
  {
   "cell_type": "code",
   "execution_count": 15,
   "metadata": {},
   "outputs": [],
   "source": [
    "# convert an array of values into a dataset matrix\n",
    "def create_dataset(data, look_back=1):\n",
    "    dataX, dataY = [], []\n",
    "    for i in range(len(data)-look_back-1):\n",
    "        a = data[i:(i+look_back), 0]\n",
    "        dataX.append(a)\n",
    "        dataY.append(data[i + look_back, 0])\n",
    "    return np.array(dataX), np.array(dataY)"
   ]
  },
  {
   "cell_type": "code",
   "execution_count": 16,
   "metadata": {},
   "outputs": [
    {
     "name": "stderr",
     "output_type": "stream",
     "text": [
      "C:\\Users\\mmsqu\\Anaconda3\\lib\\site-packages\\sklearn\\utils\\validation.py:595: DataConversionWarning: Data with input dtype int64 was converted to float64 by MinMaxScaler.\n",
      "  warnings.warn(msg, DataConversionWarning)\n"
     ]
    }
   ],
   "source": [
    "data = np.reshape(time_series_data.values, (-1, 1))\n",
    "scaler = MinMaxScaler(feature_range=(0, 1))\n",
    "data = scaler.fit_transform(data)\n",
    "X, y = create_dataset(data, look_back)\n",
    "# reshape input to be [samples, time steps, features]\n",
    "X = np.reshape(X, (X.shape[0], 1, X.shape[1]))"
   ]
  },
  {
   "cell_type": "code",
   "execution_count": 17,
   "metadata": {},
   "outputs": [
    {
     "name": "stdout",
     "output_type": "stream",
     "text": [
      "Epoch 1/50\n",
      " - 0s - loss: 0.0921\n",
      "Epoch 2/50\n",
      " - 0s - loss: 0.0276\n",
      "Epoch 3/50\n",
      " - 0s - loss: 0.0243\n",
      "Epoch 4/50\n",
      " - 0s - loss: 0.0196\n",
      "Epoch 5/50\n",
      " - 0s - loss: 0.0172\n",
      "Epoch 6/50\n",
      " - 0s - loss: 0.0200\n",
      "Epoch 7/50\n",
      " - 0s - loss: 0.0176\n",
      "Epoch 8/50\n",
      " - 0s - loss: 0.0176\n",
      "Epoch 9/50\n",
      " - 0s - loss: 0.0161\n",
      "Epoch 10/50\n",
      " - 0s - loss: 0.0168\n",
      "Epoch 11/50\n",
      " - 0s - loss: 0.0160\n",
      "Epoch 12/50\n",
      " - 0s - loss: 0.0158\n",
      "Epoch 13/50\n",
      " - 0s - loss: 0.0146\n",
      "Epoch 14/50\n",
      " - 0s - loss: 0.0151\n",
      "Epoch 15/50\n",
      " - 0s - loss: 0.0140\n",
      "Epoch 16/50\n",
      " - 0s - loss: 0.0145\n",
      "Epoch 17/50\n",
      " - 0s - loss: 0.0136\n",
      "Epoch 18/50\n",
      " - 0s - loss: 0.0137\n",
      "Epoch 19/50\n",
      " - 0s - loss: 0.0144\n",
      "Epoch 20/50\n",
      " - 0s - loss: 0.0137\n",
      "Epoch 21/50\n",
      " - 0s - loss: 0.0131\n",
      "Epoch 22/50\n",
      " - 0s - loss: 0.0123\n",
      "Epoch 23/50\n",
      " - 0s - loss: 0.0142\n",
      "Epoch 24/50\n",
      " - 0s - loss: 0.0150\n",
      "Epoch 25/50\n",
      " - 0s - loss: 0.0140\n",
      "Epoch 26/50\n",
      " - 0s - loss: 0.0124\n",
      "Epoch 27/50\n",
      " - 0s - loss: 0.0108\n",
      "Epoch 28/50\n",
      " - 0s - loss: 0.0102\n",
      "Epoch 29/50\n",
      " - 0s - loss: 0.0121\n",
      "Epoch 30/50\n",
      " - 0s - loss: 0.0117\n",
      "Epoch 31/50\n",
      " - 0s - loss: 0.0118\n",
      "Epoch 32/50\n",
      " - 0s - loss: 0.0092\n",
      "Epoch 33/50\n",
      " - 0s - loss: 0.0090\n",
      "Epoch 34/50\n",
      " - 0s - loss: 0.0100\n",
      "Epoch 35/50\n",
      " - 0s - loss: 0.0099\n",
      "Epoch 36/50\n",
      " - 0s - loss: 0.0104\n",
      "Epoch 37/50\n",
      " - 0s - loss: 0.0092\n",
      "Epoch 38/50\n",
      " - 0s - loss: 0.0102\n",
      "Epoch 39/50\n",
      " - 0s - loss: 0.0093\n",
      "Epoch 40/50\n",
      " - 0s - loss: 0.0082\n",
      "Epoch 41/50\n",
      " - 0s - loss: 0.0089\n",
      "Epoch 42/50\n",
      " - 0s - loss: 0.0081\n",
      "Epoch 43/50\n",
      " - 0s - loss: 0.0095\n",
      "Epoch 44/50\n",
      " - 0s - loss: 0.0093\n",
      "Epoch 45/50\n",
      " - 0s - loss: 0.0122\n",
      "Epoch 46/50\n",
      " - 0s - loss: 0.0114\n",
      "Epoch 47/50\n",
      " - 0s - loss: 0.0073\n",
      "Epoch 48/50\n",
      " - 0s - loss: 0.0075\n",
      "Epoch 49/50\n",
      " - 0s - loss: 0.0079\n",
      "Epoch 50/50\n",
      " - 0s - loss: 0.0087\n"
     ]
    },
    {
     "data": {
      "text/plain": [
       "<keras.callbacks.callbacks.History at 0x1ff985e9668>"
      ]
     },
     "execution_count": 17,
     "metadata": {},
     "output_type": "execute_result"
    }
   ],
   "source": [
    "# create model and fit the LSTM network\n",
    "model = Sequential()\n",
    "model.add(LSTM(50, input_shape=(1, look_back)))\n",
    "model.add(Dense(1))\n",
    "model.compile(loss='mean_squared_error', optimizer='adam')\n",
    "model.fit(X, y, epochs=50, batch_size=1, verbose=2)"
   ]
  },
  {
   "cell_type": "code",
   "execution_count": 18,
   "metadata": {},
   "outputs": [],
   "source": [
    "# make prediction\n",
    "val = data[-look_back:] # last batch in the training data\n",
    "predictions = []"
   ]
  },
  {
   "cell_type": "code",
   "execution_count": 19,
   "metadata": {},
   "outputs": [],
   "source": [
    "# forecast the next 50 data points\n",
    "for _ in range(50):\n",
    "    pred = model.predict(val.reshape(1,1,look_back))\n",
    "    predictions = np.append(predictions,pred)\n",
    "    val = np.append(np.delete(val, 0), pred) # update the data batch to be fed in the next iteration\n",
    "predictions = predictions.reshape(predictions.shape[0],1)"
   ]
  },
  {
   "cell_type": "code",
   "execution_count": 20,
   "metadata": {},
   "outputs": [],
   "source": [
    "# reverse forecasted results to its original scale\n",
    "predictions = scaler.inverse_transform(predictions)"
   ]
  },
  {
   "cell_type": "code",
   "execution_count": 21,
   "metadata": {},
   "outputs": [
    {
     "data": {
      "text/plain": [
       "[<matplotlib.lines.Line2D at 0x1ff9b14eba8>]"
      ]
     },
     "execution_count": 21,
     "metadata": {},
     "output_type": "execute_result"
    },
    {
     "data": {
      "image/png": "[encoded data removed]",
      "text/plain": [
       "<Figure size 432x288 with 1 Axes>"
      ]
     },
     "metadata": {
      "needs_background": "light"
     },
     "output_type": "display_data"
    }
   ],
   "source": [
    "# plot\n",
    "data_len = len(data)\n",
    "plt.plot(list(range(data_len)),time_series_data.values,label=\"actual data\")"
   ]
  },
  {
   "cell_type": "code",
   "execution_count": 22,
   "metadata": {},
   "outputs": [
    {
     "data": {
      "image/png": "[encoded data removed]",
      "text/plain": [
       "<Figure size 432x288 with 1 Axes>"
      ]
     },
     "metadata": {
      "needs_background": "light"
     },
     "output_type": "display_data"
    }
   ],
   "source": [
    "plt.plot(list(range(data_len,data_len+len(predictions))),predictions,label=\"predicted data\")\n",
    "plt.legend()\n",
    "plt.show()"
   ]
  },
  {
   "cell_type": "code",
   "execution_count": null,
   "metadata": {},
   "outputs": [],
   "source": []
  },
  {
   "cell_type": "code",
   "execution_count": null,
   "metadata": {},
   "outputs": [],
   "source": []
  },
  {
   "cell_type": "code",
   "execution_count": null,
   "metadata": {},
   "outputs": [],
   "source": []
  },
  {
   "cell_type": "code",
   "execution_count": null,
   "metadata": {},
   "outputs": [],
   "source": []
  }
 ],
 "metadata": {
  "kernelspec": {
   "display_name": "Python 3",
   "language": "python",
   "name": "python3"
  },
  "language_info": {
   "codemirror_mode": {
    "name": "ipython",
    "version": 3
   },
   "file_extension": ".py",
   "mimetype": "text/x-python",
   "name": "python",
   "nbconvert_exporter": "python",
   "pygments_lexer": "ipython3",
   "version": "3.7.3"
  }
 },
 "nbformat": 4,
 "nbformat_minor": 2
}
