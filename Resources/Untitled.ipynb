{
 "cells": [
  {
   "cell_type": "code",
   "execution_count": 2,
   "metadata": {},
   "outputs": [],
   "source": [
    "import warnings\n",
    "warnings.simplefilter('ignore')\n",
    "\n",
    "# %matplotlib inline\n",
    "import matplotlib.pyplot as plt\n",
    "import numpy as np\n",
    "import pandas as pd"
   ]
  },
  {
   "cell_type": "code",
   "execution_count": 5,
   "metadata": {},
   "outputs": [
    {
     "data": {
      "text/plain": [
       "Other            819\n",
       "HARTFORD         488\n",
       "WATERBURY        317\n",
       "NEW HAVEN        317\n",
       "BRIDGEPORT       297\n",
       "NEW BRITAIN      204\n",
       "BRISTOL          128\n",
       "MERIDEN          127\n",
       "NORWICH          124\n",
       "NEW LONDON       120\n",
       "TORRINGTON       112\n",
       "DANBURY          105\n",
       "MANCHESTER        96\n",
       "MIDDLETOWN        87\n",
       "ENFIELD           73\n",
       "EAST HARTFORD     67\n",
       "MILFORD           64\n",
       "STAMFORD          63\n",
       "NORWALK           61\n",
       "WEST HAVEN        60\n",
       "DERBY             56\n",
       "SOUTHINGTON       49\n",
       "STRATFORD         49\n",
       "WILLIMANTIC       47\n",
       "HAMDEN            44\n",
       "VERNON            43\n",
       "GROTON            42\n",
       "NEW MILFORD       41\n",
       "NAUGATUCK         38\n",
       "BRANFORD          33\n",
       "WALLINGFORD       32\n",
       "WEST HARTFORD     28\n",
       "WETHERSFIELD      27\n",
       "PUTNAM            26\n",
       "EAST HAVEN        26\n",
       "SHELTON           25\n",
       "PLAINVILLE        22\n",
       "NEWINGTON         21\n",
       "GLASTONBURY       20\n",
       "WINDSOR           20\n",
       "ANSONIA           19\n",
       "FARMINGTON        19\n",
       "WATERTOWN         17\n",
       "WINDSOR LOCKS     17\n",
       "GREENWICH         15\n",
       "Name: DeathCity, dtype: int64"
      ]
     },
     "execution_count": 5,
     "metadata": {},
     "output_type": "execute_result"
    }
   ],
   "source": [
    "deaths = pd.read_csv('Data/Opioid_Related_Deaths_2012-2018.csv')\n",
    "deaths['DeathCity'].value_counts()"
   ]
  },
  {
   "cell_type": "code",
   "execution_count": 15,
   "metadata": {},
   "outputs": [
    {
     "data": {
      "text/html": [
       "<div>\n",
       "<style scoped>\n",
       "    .dataframe tbody tr th:only-of-type {\n",
       "        vertical-align: middle;\n",
       "    }\n",
       "\n",
       "    .dataframe tbody tr th {\n",
       "        vertical-align: top;\n",
       "    }\n",
       "\n",
       "    .dataframe thead th {\n",
       "        text-align: right;\n",
       "    }\n",
       "</style>\n",
       "<table border=\"1\" class=\"dataframe\">\n",
       "  <thead>\n",
       "    <tr style=\"text-align: right;\">\n",
       "      <th></th>\n",
       "      <th>ID</th>\n",
       "      <th>Age</th>\n",
       "      <th>Sex</th>\n",
       "      <th>Race</th>\n",
       "      <th>DeathCity</th>\n",
       "      <th>Drug_Category</th>\n",
       "    </tr>\n",
       "  </thead>\n",
       "  <tbody>\n",
       "    <tr>\n",
       "      <th>1</th>\n",
       "      <td>16-0165</td>\n",
       "      <td>30.0</td>\n",
       "      <td>Female</td>\n",
       "      <td>White</td>\n",
       "      <td>DANBURY</td>\n",
       "      <td>Heroin</td>\n",
       "    </tr>\n",
       "    <tr>\n",
       "      <th>2</th>\n",
       "      <td>16-0208</td>\n",
       "      <td>23.0</td>\n",
       "      <td>Male</td>\n",
       "      <td>White</td>\n",
       "      <td>GREENWICH</td>\n",
       "      <td>Heroin</td>\n",
       "    </tr>\n",
       "    <tr>\n",
       "      <th>3</th>\n",
       "      <td>13-0052</td>\n",
       "      <td>22.0</td>\n",
       "      <td>Male</td>\n",
       "      <td>Asian, Other</td>\n",
       "      <td>GREENWICH</td>\n",
       "      <td>Synthetic Opioids</td>\n",
       "    </tr>\n",
       "    <tr>\n",
       "      <th>4</th>\n",
       "      <td>14-0277</td>\n",
       "      <td>23.0</td>\n",
       "      <td>Male</td>\n",
       "      <td>White</td>\n",
       "      <td>BRISTOL</td>\n",
       "      <td>Heroin</td>\n",
       "    </tr>\n",
       "    <tr>\n",
       "      <th>5</th>\n",
       "      <td>12-0205</td>\n",
       "      <td>21.0</td>\n",
       "      <td>Female</td>\n",
       "      <td>White</td>\n",
       "      <td>WEST HARTFORD</td>\n",
       "      <td>Heroin</td>\n",
       "    </tr>\n",
       "  </tbody>\n",
       "</table>\n",
       "</div>"
      ],
      "text/plain": [
       "        ID   Age     Sex          Race      DeathCity      Drug_Category\n",
       "1  16-0165  30.0  Female         White        DANBURY             Heroin\n",
       "2  16-0208  23.0    Male         White      GREENWICH             Heroin\n",
       "3  13-0052  22.0    Male  Asian, Other      GREENWICH  Synthetic Opioids\n",
       "4  14-0277  23.0    Male         White        BRISTOL             Heroin\n",
       "5  12-0205  21.0  Female         White  WEST HARTFORD             Heroin"
      ]
     },
     "execution_count": 15,
     "metadata": {},
     "output_type": "execute_result"
    }
   ],
   "source": [
    "deaths_forML = deaths_nonan[['ID', 'Age', 'Sex', 'Race', 'DeathCity', 'Drug_Category'\n",
    "       ]]\n",
    "deaths_forML.head()"
   ]
  },
  {
   "cell_type": "code",
   "execution_count": null,
   "metadata": {},
   "outputs": [],
   "source": []
  }
 ],
 "metadata": {
  "kernelspec": {
   "display_name": "Python 3",
   "language": "python",
   "name": "python3"
  },
  "language_info": {
   "codemirror_mode": {
    "name": "ipython",
    "version": 3
   },
   "file_extension": ".py",
   "mimetype": "text/x-python",
   "name": "python",
   "nbconvert_exporter": "python",
   "pygments_lexer": "ipython3",
   "version": "3.7.3"
  }
 },
 "nbformat": 4,
 "nbformat_minor": 2
}
