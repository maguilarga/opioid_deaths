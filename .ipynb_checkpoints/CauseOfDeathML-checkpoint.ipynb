{
 "cells": [
  {
   "cell_type": "code",
   "execution_count": 129,
   "metadata": {},
   "outputs": [],
   "source": [
    "import warnings\n",
    "warnings.simplefilter('ignore')\n",
    "from sklearn import tree\n",
    "# %matplotlib inline\n",
    "import matplotlib.pyplot as plt\n",
    "import numpy as np\n",
    "import pandas as pd"
   ]
  },
  {
   "cell_type": "code",
   "execution_count": 131,
   "metadata": {},
   "outputs": [
    {
     "data": {
      "text/plain": [
       "ID                      4494\n",
       "Date                    4494\n",
       "Age                     4494\n",
       "Sex                     4494\n",
       "Race                    4494\n",
       "ResidenceCity           4341\n",
       "ResidenceCounty         3813\n",
       "ResidenceState          3218\n",
       "DeathCity               4494\n",
       "DeathCounty             3507\n",
       "Location                4479\n",
       "LocationifOther          534\n",
       "DescriptionofInjury     3819\n",
       "InjuryPlace             4444\n",
       "InjuryCity              3048\n",
       "InjuryCounty            2153\n",
       "InjuryState             1288\n",
       "COD                     4494\n",
       "Heroin                  4494\n",
       "Synthetic Opioids       4494\n",
       "Prescription Opioids    4494\n",
       "DeathCityGeo            4494\n",
       "DeathCityLat            4494\n",
       "DeathCityLong           4494\n",
       "Drug_Category           4494\n",
       "dtype: int64"
      ]
     },
     "execution_count": 131,
     "metadata": {},
     "output_type": "execute_result"
    }
   ],
   "source": [
    "# Create df without NaNs\n",
    "deaths = pd.read_csv('Data/Opioid_Related_Deaths_2012-2018.csv')\n",
    "deaths_nonan = deaths.dropna(subset=['Age', 'Sex','Race','DeathCity'])\n",
    "deaths_nonan.count()"
   ]
  },
  {
   "cell_type": "code",
   "execution_count": 133,
   "metadata": {},
   "outputs": [
    {
     "data": {
      "text/html": [
       "<div>\n",
       "<style scoped>\n",
       "    .dataframe tbody tr th:only-of-type {\n",
       "        vertical-align: middle;\n",
       "    }\n",
       "\n",
       "    .dataframe tbody tr th {\n",
       "        vertical-align: top;\n",
       "    }\n",
       "\n",
       "    .dataframe thead th {\n",
       "        text-align: right;\n",
       "    }\n",
       "</style>\n",
       "<table border=\"1\" class=\"dataframe\">\n",
       "  <thead>\n",
       "    <tr style=\"text-align: right;\">\n",
       "      <th></th>\n",
       "      <th>Age</th>\n",
       "      <th>Sex</th>\n",
       "      <th>Race</th>\n",
       "      <th>DeathCity</th>\n",
       "      <th>Drug_Category</th>\n",
       "    </tr>\n",
       "  </thead>\n",
       "  <tbody>\n",
       "    <tr>\n",
       "      <th>1</th>\n",
       "      <td>30.0</td>\n",
       "      <td>Female</td>\n",
       "      <td>White</td>\n",
       "      <td>DANBURY</td>\n",
       "      <td>Heroin</td>\n",
       "    </tr>\n",
       "    <tr>\n",
       "      <th>2</th>\n",
       "      <td>23.0</td>\n",
       "      <td>Male</td>\n",
       "      <td>White</td>\n",
       "      <td>GREENWICH</td>\n",
       "      <td>Heroin</td>\n",
       "    </tr>\n",
       "    <tr>\n",
       "      <th>3</th>\n",
       "      <td>22.0</td>\n",
       "      <td>Male</td>\n",
       "      <td>Asian</td>\n",
       "      <td>GREENWICH</td>\n",
       "      <td>Synthetic Opioids</td>\n",
       "    </tr>\n",
       "    <tr>\n",
       "      <th>4</th>\n",
       "      <td>23.0</td>\n",
       "      <td>Male</td>\n",
       "      <td>White</td>\n",
       "      <td>BRISTOL</td>\n",
       "      <td>Heroin</td>\n",
       "    </tr>\n",
       "    <tr>\n",
       "      <th>5</th>\n",
       "      <td>21.0</td>\n",
       "      <td>Female</td>\n",
       "      <td>White</td>\n",
       "      <td>WEST HARTFORD</td>\n",
       "      <td>Heroin</td>\n",
       "    </tr>\n",
       "  </tbody>\n",
       "</table>\n",
       "</div>"
      ],
      "text/plain": [
       "    Age     Sex   Race      DeathCity      Drug_Category\n",
       "1  30.0  Female  White        DANBURY             Heroin\n",
       "2  23.0    Male  White      GREENWICH             Heroin\n",
       "3  22.0    Male  Asian      GREENWICH  Synthetic Opioids\n",
       "4  23.0    Male  White        BRISTOL             Heroin\n",
       "5  21.0  Female  White  WEST HARTFORD             Heroin"
      ]
     },
     "execution_count": 133,
     "metadata": {},
     "output_type": "execute_result"
    }
   ],
   "source": [
    "# Clean up data with only columns needed\n",
    "deaths_forML = deaths_nonan[['Age', 'Sex', 'Race', 'DeathCity', 'Drug_Category'\n",
    "       ]]\n",
    "deaths_forML.head()"
   ]
  },
  {
   "cell_type": "code",
   "execution_count": 138,
   "metadata": {},
   "outputs": [
    {
     "name": "stdout",
     "output_type": "stream",
     "text": [
      "(4494, 4) (4494, 1)\n"
     ]
    }
   ],
   "source": [
    "# Reshape data\n",
    "X = deaths_forML[[\"Age\", \"Sex\", \"Race\",\"DeathCity\"]]\n",
    "y = deaths_forML[\"Drug_Category\"].values.reshape(-1, 1)\n",
    "print(X.shape, y.shape)"
   ]
  },
  {
   "cell_type": "code",
   "execution_count": 139,
   "metadata": {},
   "outputs": [],
   "source": [
    "# Reformat data to numeric\n",
    "\n",
    "\n",
    "\n",
    "# y = pd.get_dummies(deaths_forML['Drug_Category'])\n",
    "X = pd.get_dummies(X)\n",
    "\n",
    "# data = deaths_forML.values\n",
    "\n",
    "# X = data[:, 0:4]\n",
    "# y = data[:, 4]\n",
    "\n"
   ]
  },
  {
   "cell_type": "code",
   "execution_count": 101,
   "metadata": {},
   "outputs": [],
   "source": [
    "# from sklearn.preprocessing import LabelEncoder\n",
    "\n",
    "# # Step 1: Label-encode data set\n",
    "# label_encoder = LabelEncoder()\n",
    "# label_encoder.fit(y)\n",
    "# encoded_y = label_encoder.transform(y)"
   ]
  },
  {
   "cell_type": "code",
   "execution_count": 102,
   "metadata": {},
   "outputs": [],
   "source": [
    "# for label, original_class in zip(encoded_y, y):\n",
    "#     print('Original Class: ' + str(original_class))\n",
    "#     print('Encoded Label: ' + str(label))\n",
    "#     print('-' * 12)"
   ]
  },
  {
   "cell_type": "code",
   "execution_count": 103,
   "metadata": {},
   "outputs": [],
   "source": [
    "# from keras.utils import to_categorical\n",
    "\n",
    "# # Step 2: One-hot encoding\n",
    "# one_hot_y = to_categorical(encoded_y)\n",
    "# one_hot_y"
   ]
  },
  {
   "cell_type": "code",
   "execution_count": 140,
   "metadata": {},
   "outputs": [
    {
     "data": {
      "text/html": [
       "<div>\n",
       "<style scoped>\n",
       "    .dataframe tbody tr th:only-of-type {\n",
       "        vertical-align: middle;\n",
       "    }\n",
       "\n",
       "    .dataframe tbody tr th {\n",
       "        vertical-align: top;\n",
       "    }\n",
       "\n",
       "    .dataframe thead th {\n",
       "        text-align: right;\n",
       "    }\n",
       "</style>\n",
       "<table border=\"1\" class=\"dataframe\">\n",
       "  <thead>\n",
       "    <tr style=\"text-align: right;\">\n",
       "      <th></th>\n",
       "      <th>Age</th>\n",
       "      <th>Sex_Female</th>\n",
       "      <th>Sex_Male</th>\n",
       "      <th>Sex_Unknown</th>\n",
       "      <th>Race_Asian</th>\n",
       "      <th>Race_Black</th>\n",
       "      <th>Race_Hispanic</th>\n",
       "      <th>Race_Other</th>\n",
       "      <th>Race_Unknown</th>\n",
       "      <th>Race_White</th>\n",
       "      <th>...</th>\n",
       "      <th>DeathCity_VERNON</th>\n",
       "      <th>DeathCity_WALLINGFORD</th>\n",
       "      <th>DeathCity_WATERBURY</th>\n",
       "      <th>DeathCity_WATERTOWN</th>\n",
       "      <th>DeathCity_WEST HARTFORD</th>\n",
       "      <th>DeathCity_WEST HAVEN</th>\n",
       "      <th>DeathCity_WETHERSFIELD</th>\n",
       "      <th>DeathCity_WILLIMANTIC</th>\n",
       "      <th>DeathCity_WINDSOR</th>\n",
       "      <th>DeathCity_WINDSOR LOCKS</th>\n",
       "    </tr>\n",
       "  </thead>\n",
       "  <tbody>\n",
       "    <tr>\n",
       "      <th>3594</th>\n",
       "      <td>60.0</td>\n",
       "      <td>0</td>\n",
       "      <td>1</td>\n",
       "      <td>0</td>\n",
       "      <td>0</td>\n",
       "      <td>0</td>\n",
       "      <td>0</td>\n",
       "      <td>0</td>\n",
       "      <td>0</td>\n",
       "      <td>1</td>\n",
       "      <td>...</td>\n",
       "      <td>0</td>\n",
       "      <td>0</td>\n",
       "      <td>0</td>\n",
       "      <td>0</td>\n",
       "      <td>0</td>\n",
       "      <td>0</td>\n",
       "      <td>0</td>\n",
       "      <td>0</td>\n",
       "      <td>0</td>\n",
       "      <td>0</td>\n",
       "    </tr>\n",
       "    <tr>\n",
       "      <th>1413</th>\n",
       "      <td>46.0</td>\n",
       "      <td>0</td>\n",
       "      <td>1</td>\n",
       "      <td>0</td>\n",
       "      <td>0</td>\n",
       "      <td>0</td>\n",
       "      <td>0</td>\n",
       "      <td>0</td>\n",
       "      <td>0</td>\n",
       "      <td>1</td>\n",
       "      <td>...</td>\n",
       "      <td>0</td>\n",
       "      <td>0</td>\n",
       "      <td>0</td>\n",
       "      <td>0</td>\n",
       "      <td>0</td>\n",
       "      <td>0</td>\n",
       "      <td>0</td>\n",
       "      <td>0</td>\n",
       "      <td>0</td>\n",
       "      <td>0</td>\n",
       "    </tr>\n",
       "    <tr>\n",
       "      <th>1150</th>\n",
       "      <td>49.0</td>\n",
       "      <td>0</td>\n",
       "      <td>1</td>\n",
       "      <td>0</td>\n",
       "      <td>0</td>\n",
       "      <td>0</td>\n",
       "      <td>0</td>\n",
       "      <td>0</td>\n",
       "      <td>0</td>\n",
       "      <td>1</td>\n",
       "      <td>...</td>\n",
       "      <td>0</td>\n",
       "      <td>0</td>\n",
       "      <td>0</td>\n",
       "      <td>0</td>\n",
       "      <td>0</td>\n",
       "      <td>0</td>\n",
       "      <td>0</td>\n",
       "      <td>0</td>\n",
       "      <td>0</td>\n",
       "      <td>0</td>\n",
       "    </tr>\n",
       "    <tr>\n",
       "      <th>105</th>\n",
       "      <td>36.0</td>\n",
       "      <td>1</td>\n",
       "      <td>0</td>\n",
       "      <td>0</td>\n",
       "      <td>0</td>\n",
       "      <td>0</td>\n",
       "      <td>0</td>\n",
       "      <td>0</td>\n",
       "      <td>0</td>\n",
       "      <td>1</td>\n",
       "      <td>...</td>\n",
       "      <td>0</td>\n",
       "      <td>0</td>\n",
       "      <td>0</td>\n",
       "      <td>0</td>\n",
       "      <td>0</td>\n",
       "      <td>0</td>\n",
       "      <td>0</td>\n",
       "      <td>0</td>\n",
       "      <td>0</td>\n",
       "      <td>0</td>\n",
       "    </tr>\n",
       "    <tr>\n",
       "      <th>3834</th>\n",
       "      <td>48.0</td>\n",
       "      <td>1</td>\n",
       "      <td>0</td>\n",
       "      <td>0</td>\n",
       "      <td>0</td>\n",
       "      <td>0</td>\n",
       "      <td>0</td>\n",
       "      <td>0</td>\n",
       "      <td>0</td>\n",
       "      <td>1</td>\n",
       "      <td>...</td>\n",
       "      <td>0</td>\n",
       "      <td>0</td>\n",
       "      <td>0</td>\n",
       "      <td>0</td>\n",
       "      <td>0</td>\n",
       "      <td>0</td>\n",
       "      <td>0</td>\n",
       "      <td>0</td>\n",
       "      <td>0</td>\n",
       "      <td>0</td>\n",
       "    </tr>\n",
       "  </tbody>\n",
       "</table>\n",
       "<p>5 rows × 55 columns</p>\n",
       "</div>"
      ],
      "text/plain": [
       "       Age  Sex_Female  Sex_Male  Sex_Unknown  Race_Asian  Race_Black  \\\n",
       "3594  60.0           0         1            0           0           0   \n",
       "1413  46.0           0         1            0           0           0   \n",
       "1150  49.0           0         1            0           0           0   \n",
       "105   36.0           1         0            0           0           0   \n",
       "3834  48.0           1         0            0           0           0   \n",
       "\n",
       "      Race_Hispanic  Race_Other  Race_Unknown  Race_White  ...  \\\n",
       "3594              0           0             0           1  ...   \n",
       "1413              0           0             0           1  ...   \n",
       "1150              0           0             0           1  ...   \n",
       "105               0           0             0           1  ...   \n",
       "3834              0           0             0           1  ...   \n",
       "\n",
       "      DeathCity_VERNON  DeathCity_WALLINGFORD  DeathCity_WATERBURY  \\\n",
       "3594                 0                      0                    0   \n",
       "1413                 0                      0                    0   \n",
       "1150                 0                      0                    0   \n",
       "105                  0                      0                    0   \n",
       "3834                 0                      0                    0   \n",
       "\n",
       "      DeathCity_WATERTOWN  DeathCity_WEST HARTFORD  DeathCity_WEST HAVEN  \\\n",
       "3594                    0                        0                     0   \n",
       "1413                    0                        0                     0   \n",
       "1150                    0                        0                     0   \n",
       "105                     0                        0                     0   \n",
       "3834                    0                        0                     0   \n",
       "\n",
       "      DeathCity_WETHERSFIELD  DeathCity_WILLIMANTIC  DeathCity_WINDSOR  \\\n",
       "3594                       0                      0                  0   \n",
       "1413                       0                      0                  0   \n",
       "1150                       0                      0                  0   \n",
       "105                        0                      0                  0   \n",
       "3834                       0                      0                  0   \n",
       "\n",
       "      DeathCity_WINDSOR LOCKS  \n",
       "3594                        0  \n",
       "1413                        0  \n",
       "1150                        0  \n",
       "105                         0  \n",
       "3834                        0  \n",
       "\n",
       "[5 rows x 55 columns]"
      ]
     },
     "execution_count": 140,
     "metadata": {},
     "output_type": "execute_result"
    }
   ],
   "source": [
    "from sklearn.model_selection import train_test_split\n",
    "\n",
    "# X = pd.get_dummies(X)\n",
    "# y = pd.get_dummies(y)\n",
    "\n",
    "X_train, X_test, y_train, y_test = train_test_split(X, y, random_state=42)\n",
    "\n",
    "X_train.head()"
   ]
  },
  {
   "cell_type": "code",
   "execution_count": 115,
   "metadata": {},
   "outputs": [],
   "source": [
    "# from sklearn.preprocessing import StandardScaler\n",
    "# X_scaler = StandardScaler().fit(X_train)\n",
    "# y_scaler = StandardScaler().fit(y_train)\n",
    "\n",
    "# X_train_scaled = X_scaler.transform(X_train)\n",
    "# X_test_scaled = X_scaler.transform(X_test)\n",
    "# y_train_scaled = y_scaler.transform(y_train)\n",
    "# y_test_scaled = y_scaler.transform(y_test)"
   ]
  },
  {
   "cell_type": "code",
   "execution_count": 106,
   "metadata": {},
   "outputs": [
    {
     "ename": "AttributeError",
     "evalue": "'numpy.ndarray' object has no attribute 'columns'",
     "output_type": "error",
     "traceback": [
      "\u001b[0;31m---------------------------------------------------------------------------\u001b[0m",
      "\u001b[0;31mAttributeError\u001b[0m                            Traceback (most recent call last)",
      "\u001b[0;32m<ipython-input-106-5f2fed46b562>\u001b[0m in \u001b[0;36m<module>\u001b[0;34m\u001b[0m\n\u001b[0;32m----> 1\u001b[0;31m \u001b[0mfeature_names\u001b[0m \u001b[0;34m=\u001b[0m \u001b[0mdata\u001b[0m\u001b[0;34m.\u001b[0m\u001b[0mcolumns\u001b[0m\u001b[0;34m\u001b[0m\u001b[0;34m\u001b[0m\u001b[0m\n\u001b[0m",
      "\u001b[0;31mAttributeError\u001b[0m: 'numpy.ndarray' object has no attribute 'columns'"
     ]
    }
   ],
   "source": [
    "# feature_names = data.columns"
   ]
  },
  {
   "cell_type": "code",
   "execution_count": 141,
   "metadata": {},
   "outputs": [
    {
     "data": {
      "text/plain": [
       "0.452846975088968"
      ]
     },
     "execution_count": 141,
     "metadata": {},
     "output_type": "execute_result"
    }
   ],
   "source": [
    "clf = tree.DecisionTreeClassifier()\n",
    "clf = clf.fit(X_train, y_train)\n",
    "clf.score(X_test, y_test)"
   ]
  },
  {
   "cell_type": "code",
   "execution_count": 142,
   "metadata": {},
   "outputs": [
    {
     "data": {
      "text/plain": [
       "0.46352313167259784"
      ]
     },
     "execution_count": 142,
     "metadata": {},
     "output_type": "execute_result"
    }
   ],
   "source": [
    "from sklearn.ensemble import RandomForestClassifier\n",
    "rf = RandomForestClassifier(n_estimators=200) # nj\n",
    "rf = rf.fit(X_train, y_train)\n",
    "rf.score(X_test, y_test)"
   ]
  },
  {
   "cell_type": "code",
   "execution_count": 143,
   "metadata": {},
   "outputs": [
    {
     "data": {
      "text/html": [
       "[(0.6450876088373935, 'Age'), (0.014405754369675365, 'DeathCity_BROAD BROOK'), (0.013052207621035001, 'Race_Hispanic, Black'), (0.01245691556516434, 'DeathCity_BARKHAMSTED'), (0.011864779904476753, 'DeathCity_BOLTON'), (0.011837111588059078, 'Race_Other'), (0.01144107202524021, 'DeathCity_BLOOMFIELD'), (0.011110490871794172, 'Sex_Male'), (0.011103541620662436, 'DeathCity_CLINTON'), (0.010471109962756688, 'Sex_Female'), (0.010321023610883193, 'Race_Asian, Other'), (0.00986404319329238, 'Race_Black'), (0.00914169073033459, 'DeathCity_BERLIN'), (0.008917589717204218, 'Race_Unknown'), (0.00844976836557096, 'DeathCity_BOZRAH'), (0.008165473959579764, 'Race_White'), (0.007887490728067839, 'DeathCity_BRISTOL'), (0.007820688865362638, 'DeathCity_BETHANY'), (0.007804868203100486, 'DeathCity_ANSONIA'), (0.007659803476253132, 'DeathCity_BRIDGEWATER'), (0.007377375382430428, 'DeathCity_06340'), (0.007261020928415395, 'DeathCity_CANTON'), (0.007237871472014757, 'DeathCity_AMSTON'), (0.00722937256531403, 'DeathCity_BEACON FALLS'), (0.0071029769790204025, 'DeathCity_CHAPLIN'), (0.006646155687612295, 'DeathCity_BETHEL'), (0.006430686697164931, 'DeathCity_COVENTRY'), (0.006376827310223373, 'DeathCity_CORNWALL BRIDGE'), (0.006198691397688899, 'DeathCity_CENTRAL VILLAGE'), (0.005963861656960312, 'Race_Hispanic, White'), (0.00547978938955899, 'DeathCity_CANTERBURY'), (0.00540803607308352, 'DeathCity_CHESHIRE'), (0.005396852936695047, 'DeathCity_BANTAM'), (0.005147607181226688, 'Race_Native American, Other'), (0.00505797666036218, 'DeathCity_BETHLEHEM'), (0.004869340056672172, 'DeathCity_BALTIC'), (0.004253856811293397, 'DeathCity_BRANFORD'), (0.004237910646301283, 'DeathCity_ANDOVER'), (0.00423236840790208, 'DeathCity_BURLINGTON'), (0.003948370267604456, 'DeathCity_CHESTER'), (0.0038760640403964785, 'DeathCity_ASHFORD'), (0.0037353118770080225, 'DeathCity_COLUMBIA'), (0.003655707327547545, 'DeathCity_COS COB'), (0.003613132880569009, 'DeathCity_DANBURY'), (0.0035555936347920177, 'DeathCity_COLCHESTER'), (0.0034436437896688183, 'DeathCity_CROMWELL'), (0.003443388795517569, 'DeathCity_AVON'), (0.0034157051056007332, 'DeathCity_BRIDGEPORT'), (0.003319452046954564, 'DeathCity_BROOKFIELD'), (0.0031137819688691255, 'DeathCity_BROOKLYN'), (0.0029335883538966845, 'Race_Asian Indian'), (0.002514150603253956, 'Race_Chinese'), (0.0023533794053659826, 'Race_Hawaiian'), (0.0020722043156755406, 'DeathCity_BAKERSVILLE'), (0.00023491413143270307, 'Sex_Unknown')]"
      ],
      "text/plain": [
       "[(0.6450876088373935, 'Age'),\n",
       " (0.014405754369675365, 'DeathCity_BROAD BROOK'),\n",
       " (0.013052207621035001, 'Race_Hispanic, Black'),\n",
       " (0.01245691556516434, 'DeathCity_BARKHAMSTED'),\n",
       " (0.011864779904476753, 'DeathCity_BOLTON'),\n",
       " (0.011837111588059078, 'Race_Other'),\n",
       " (0.01144107202524021, 'DeathCity_BLOOMFIELD'),\n",
       " (0.011110490871794172, 'Sex_Male'),\n",
       " (0.011103541620662436, 'DeathCity_CLINTON'),\n",
       " (0.010471109962756688, 'Sex_Female'),\n",
       " (0.010321023610883193, 'Race_Asian, Other'),\n",
       " (0.00986404319329238, 'Race_Black'),\n",
       " (0.00914169073033459, 'DeathCity_BERLIN'),\n",
       " (0.008917589717204218, 'Race_Unknown'),\n",
       " (0.00844976836557096, 'DeathCity_BOZRAH'),\n",
       " (0.008165473959579764, 'Race_White'),\n",
       " (0.007887490728067839, 'DeathCity_BRISTOL'),\n",
       " (0.007820688865362638, 'DeathCity_BETHANY'),\n",
       " (0.007804868203100486, 'DeathCity_ANSONIA'),\n",
       " (0.007659803476253132, 'DeathCity_BRIDGEWATER'),\n",
       " (0.007377375382430428, 'DeathCity_06340'),\n",
       " (0.007261020928415395, 'DeathCity_CANTON'),\n",
       " (0.007237871472014757, 'DeathCity_AMSTON'),\n",
       " (0.00722937256531403, 'DeathCity_BEACON FALLS'),\n",
       " (0.0071029769790204025, 'DeathCity_CHAPLIN'),\n",
       " (0.006646155687612295, 'DeathCity_BETHEL'),\n",
       " (0.006430686697164931, 'DeathCity_COVENTRY'),\n",
       " (0.006376827310223373, 'DeathCity_CORNWALL BRIDGE'),\n",
       " (0.006198691397688899, 'DeathCity_CENTRAL VILLAGE'),\n",
       " (0.005963861656960312, 'Race_Hispanic, White'),\n",
       " (0.00547978938955899, 'DeathCity_CANTERBURY'),\n",
       " (0.00540803607308352, 'DeathCity_CHESHIRE'),\n",
       " (0.005396852936695047, 'DeathCity_BANTAM'),\n",
       " (0.005147607181226688, 'Race_Native American, Other'),\n",
       " (0.00505797666036218, 'DeathCity_BETHLEHEM'),\n",
       " (0.004869340056672172, 'DeathCity_BALTIC'),\n",
       " (0.004253856811293397, 'DeathCity_BRANFORD'),\n",
       " (0.004237910646301283, 'DeathCity_ANDOVER'),\n",
       " (0.00423236840790208, 'DeathCity_BURLINGTON'),\n",
       " (0.003948370267604456, 'DeathCity_CHESTER'),\n",
       " (0.0038760640403964785, 'DeathCity_ASHFORD'),\n",
       " (0.0037353118770080225, 'DeathCity_COLUMBIA'),\n",
       " (0.003655707327547545, 'DeathCity_COS COB'),\n",
       " (0.003613132880569009, 'DeathCity_DANBURY'),\n",
       " (0.0035555936347920177, 'DeathCity_COLCHESTER'),\n",
       " (0.0034436437896688183, 'DeathCity_CROMWELL'),\n",
       " (0.003443388795517569, 'DeathCity_AVON'),\n",
       " (0.0034157051056007332, 'DeathCity_BRIDGEPORT'),\n",
       " (0.003319452046954564, 'DeathCity_BROOKFIELD'),\n",
       " (0.0031137819688691255, 'DeathCity_BROOKLYN'),\n",
       " (0.0029335883538966845, 'Race_Asian Indian'),\n",
       " (0.002514150603253956, 'Race_Chinese'),\n",
       " (0.0023533794053659826, 'Race_Hawaiian'),\n",
       " (0.0020722043156755406, 'DeathCity_BAKERSVILLE'),\n",
       " (0.00023491413143270307, 'Sex_Unknown')]"
      ]
     },
     "execution_count": 143,
     "metadata": {},
     "output_type": "execute_result"
    }
   ],
   "source": [
    "sorted(zip(rf.feature_importances_, feature_names), reverse=True)"
   ]
  },
  {
   "cell_type": "code",
   "execution_count": 144,
   "metadata": {},
   "outputs": [
    {
     "data": {
      "text/plain": [
       "0.5578291814946619"
      ]
     },
     "execution_count": 144,
     "metadata": {},
     "output_type": "execute_result"
    }
   ],
   "source": [
    "from xgboost import XGBClassifier\n",
    "xgb = XGBClassifier()\n",
    "xgb = xgb.fit(X_train, y_train)\n",
    "xgb.score(X_test, y_test)\n"
   ]
  },
  {
   "cell_type": "code",
   "execution_count": 145,
   "metadata": {},
   "outputs": [
    {
     "data": {
      "text/html": [
       "[(0.07654272, 'Sex_Male'), (0.050103355, 'DeathCity_BARKHAMSTED'), (0.045126807, 'DeathCity_ANSONIA'), (0.038777277, 'DeathCity_BROAD BROOK'), (0.03872366, 'Race_Hispanic, Black'), (0.03445757, 'DeathCity_06340'), (0.030918261, 'Race_Hispanic, White'), (0.029108504, 'DeathCity_DANBURY'), (0.027994782, 'DeathCity_BLOOMFIELD'), (0.025250094, 'DeathCity_ANDOVER'), (0.025104737, 'Race_Asian, Other'), (0.02509941, 'DeathCity_COLCHESTER'), (0.02470582, 'Race_Unknown'), (0.02401996, 'DeathCity_BEACON FALLS'), (0.022296716, 'DeathCity_CHESTER'), (0.02222953, 'DeathCity_CANTON'), (0.021522343, 'DeathCity_AMSTON'), (0.02131508, 'Age'), (0.020436283, 'DeathCity_COVENTRY'), (0.018449131, 'DeathCity_BANTAM'), (0.018040428, 'DeathCity_BETHLEHEM'), (0.017695932, 'DeathCity_BETHANY'), (0.017312381, 'DeathCity_BRISTOL'), (0.016683219, 'DeathCity_CLINTON'), (0.0159884, 'DeathCity_CORNWALL BRIDGE'), (0.015901862, 'Sex_Female'), (0.015862763, 'DeathCity_BOLTON'), (0.015757903, 'Race_Native American, Other'), (0.015467903, 'DeathCity_BURLINGTON'), (0.015330357, 'DeathCity_BRIDGEWATER'), (0.01507279, 'DeathCity_CHAPLIN'), (0.015055721, 'Race_White'), (0.014856879, 'DeathCity_BETHEL'), (0.013425637, 'DeathCity_BOZRAH'), (0.013076861, 'DeathCity_ASHFORD'), (0.012618673, 'DeathCity_BALTIC'), (0.012467052, 'DeathCity_COLUMBIA'), (0.011834606, 'DeathCity_BROOKLYN'), (0.0116438605, 'Race_Other'), (0.01143453, 'DeathCity_BAKERSVILLE'), (0.011273795, 'DeathCity_BRIDGEPORT'), (0.010776334, 'DeathCity_CANTERBURY'), (0.010246851, 'Race_Black'), (0.010120965, 'Race_Chinese'), (0.00880893, 'DeathCity_BRANFORD'), (0.0075782025, 'DeathCity_CHESHIRE'), (0.0074999398, 'Race_Asian Indian'), (0.0066039693, 'DeathCity_CROMWELL'), (0.0048634447, 'DeathCity_CENTRAL VILLAGE'), (0.0045177955, 'DeathCity_COS COB'), (0.0, 'Sex_Unknown'), (0.0, 'Race_Hawaiian'), (0.0, 'DeathCity_BROOKFIELD'), (0.0, 'DeathCity_BERLIN'), (0.0, 'DeathCity_AVON')]"
      ],
      "text/plain": [
       "[(0.07654272, 'Sex_Male'),\n",
       " (0.050103355, 'DeathCity_BARKHAMSTED'),\n",
       " (0.045126807, 'DeathCity_ANSONIA'),\n",
       " (0.038777277, 'DeathCity_BROAD BROOK'),\n",
       " (0.03872366, 'Race_Hispanic, Black'),\n",
       " (0.03445757, 'DeathCity_06340'),\n",
       " (0.030918261, 'Race_Hispanic, White'),\n",
       " (0.029108504, 'DeathCity_DANBURY'),\n",
       " (0.027994782, 'DeathCity_BLOOMFIELD'),\n",
       " (0.025250094, 'DeathCity_ANDOVER'),\n",
       " (0.025104737, 'Race_Asian, Other'),\n",
       " (0.02509941, 'DeathCity_COLCHESTER'),\n",
       " (0.02470582, 'Race_Unknown'),\n",
       " (0.02401996, 'DeathCity_BEACON FALLS'),\n",
       " (0.022296716, 'DeathCity_CHESTER'),\n",
       " (0.02222953, 'DeathCity_CANTON'),\n",
       " (0.021522343, 'DeathCity_AMSTON'),\n",
       " (0.02131508, 'Age'),\n",
       " (0.020436283, 'DeathCity_COVENTRY'),\n",
       " (0.018449131, 'DeathCity_BANTAM'),\n",
       " (0.018040428, 'DeathCity_BETHLEHEM'),\n",
       " (0.017695932, 'DeathCity_BETHANY'),\n",
       " (0.017312381, 'DeathCity_BRISTOL'),\n",
       " (0.016683219, 'DeathCity_CLINTON'),\n",
       " (0.0159884, 'DeathCity_CORNWALL BRIDGE'),\n",
       " (0.015901862, 'Sex_Female'),\n",
       " (0.015862763, 'DeathCity_BOLTON'),\n",
       " (0.015757903, 'Race_Native American, Other'),\n",
       " (0.015467903, 'DeathCity_BURLINGTON'),\n",
       " (0.015330357, 'DeathCity_BRIDGEWATER'),\n",
       " (0.01507279, 'DeathCity_CHAPLIN'),\n",
       " (0.015055721, 'Race_White'),\n",
       " (0.014856879, 'DeathCity_BETHEL'),\n",
       " (0.013425637, 'DeathCity_BOZRAH'),\n",
       " (0.013076861, 'DeathCity_ASHFORD'),\n",
       " (0.012618673, 'DeathCity_BALTIC'),\n",
       " (0.012467052, 'DeathCity_COLUMBIA'),\n",
       " (0.011834606, 'DeathCity_BROOKLYN'),\n",
       " (0.0116438605, 'Race_Other'),\n",
       " (0.01143453, 'DeathCity_BAKERSVILLE'),\n",
       " (0.011273795, 'DeathCity_BRIDGEPORT'),\n",
       " (0.010776334, 'DeathCity_CANTERBURY'),\n",
       " (0.010246851, 'Race_Black'),\n",
       " (0.010120965, 'Race_Chinese'),\n",
       " (0.00880893, 'DeathCity_BRANFORD'),\n",
       " (0.0075782025, 'DeathCity_CHESHIRE'),\n",
       " (0.0074999398, 'Race_Asian Indian'),\n",
       " (0.0066039693, 'DeathCity_CROMWELL'),\n",
       " (0.0048634447, 'DeathCity_CENTRAL VILLAGE'),\n",
       " (0.0045177955, 'DeathCity_COS COB'),\n",
       " (0.0, 'Sex_Unknown'),\n",
       " (0.0, 'Race_Hawaiian'),\n",
       " (0.0, 'DeathCity_BROOKFIELD'),\n",
       " (0.0, 'DeathCity_BERLIN'),\n",
       " (0.0, 'DeathCity_AVON')]"
      ]
     },
     "execution_count": 145,
     "metadata": {},
     "output_type": "execute_result"
    }
   ],
   "source": [
    "sorted(zip(xgb.feature_importances_, feature_names), reverse=True)"
   ]
  },
  {
   "cell_type": "code",
   "execution_count": 146,
   "metadata": {},
   "outputs": [
    {
     "data": {
      "image/png": "[encoded data removed]",
      "text/plain": [
       "<Figure size 576x684 with 1 Axes>"
      ]
     },
     "metadata": {
      "needs_background": "light"
     },
     "output_type": "display_data"
    }
   ],
   "source": [
    "import shap\n",
    "explainer = shap.TreeExplainer(xgb)\n",
    "shap_values = explainer.shap_values(X_test)\n",
    "shap.summary_plot(shap_values, X_test,plot_type=\"bar\")"
   ]
  },
  {
   "cell_type": "code",
   "execution_count": null,
   "metadata": {},
   "outputs": [],
   "source": []
  }
 ],
 "metadata": {
  "kernelspec": {
   "display_name": "Python 3",
   "language": "python",
   "name": "python3"
  },
  "language_info": {
   "codemirror_mode": {
    "name": "ipython",
    "version": 3
   },
   "file_extension": ".py",
   "mimetype": "text/x-python",
   "name": "python",
   "nbconvert_exporter": "python",
   "pygments_lexer": "ipython3",
   "version": "3.7.3"
  }
 },
 "nbformat": 4,
 "nbformat_minor": 2
}
