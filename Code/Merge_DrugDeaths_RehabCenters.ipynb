{
 "cells": [
  {
   "cell_type": "code",
   "execution_count": 1,
   "metadata": {},
   "outputs": [],
   "source": [
    "# import numpy as np\n",
    "import pandas as pd\n",
    "# import matplotlib.pyplot as plt"
   ]
  },
  {
   "cell_type": "code",
   "execution_count": 2,
   "metadata": {},
   "outputs": [],
   "source": [
    "# load drug-related deaths dataset\n",
    "dd_df = pd.read_csv(\"../opioid_deaths/Data/Opioid_Related_Deaths_2012-2018.csv\")"
   ]
  },
  {
   "cell_type": "code",
   "execution_count": 3,
   "metadata": {},
   "outputs": [],
   "source": [
    "# Process Data to extract the informatuon we need.\n",
    "# We only require date, lat, long and number of deaths\n",
    "\n",
    "# Make Date the Index of the dataframe\n",
    "dd_df.index = pd.to_datetime(dd_df['Date'],infer_datetime_format=True)\n",
    "deaths_data_df = dd_df.groupby([pd.Grouper(freq='M'),'DeathCityLat','DeathCityLong']).count()[\"ID\"]\n",
    "deaths_data_df = deaths_data_df.reset_index()\n",
    "# Classify this information as \"Deaths\"\n",
    "deaths_data_df['Type'] = 'Deaths'\n",
    "deaths_data_df = deaths_data_df.rename(columns={'DeathCityLat': 'Latitude', 'DeathCityLong': 'Longitude', \"ID\": 'Amount'})"
   ]
  },
  {
   "cell_type": "code",
   "execution_count": 4,
   "metadata": {},
   "outputs": [
    {
     "data": {
      "text/html": [
       "<div>\n",
       "<style scoped>\n",
       "    .dataframe tbody tr th:only-of-type {\n",
       "        vertical-align: middle;\n",
       "    }\n",
       "\n",
       "    .dataframe tbody tr th {\n",
       "        vertical-align: top;\n",
       "    }\n",
       "\n",
       "    .dataframe thead th {\n",
       "        text-align: right;\n",
       "    }\n",
       "</style>\n",
       "<table border=\"1\" class=\"dataframe\">\n",
       "  <thead>\n",
       "    <tr style=\"text-align: right;\">\n",
       "      <th></th>\n",
       "      <th>Date</th>\n",
       "      <th>Latitude</th>\n",
       "      <th>Longitude</th>\n",
       "      <th>Amount</th>\n",
       "      <th>Type</th>\n",
       "    </tr>\n",
       "  </thead>\n",
       "  <tbody>\n",
       "    <tr>\n",
       "      <th>0</th>\n",
       "      <td>2012-01-31</td>\n",
       "      <td>41.051924</td>\n",
       "      <td>-73.539475</td>\n",
       "      <td>1</td>\n",
       "      <td>Deaths</td>\n",
       "    </tr>\n",
       "    <tr>\n",
       "      <th>1</th>\n",
       "      <td>2012-01-31</td>\n",
       "      <td>41.118050</td>\n",
       "      <td>-73.412906</td>\n",
       "      <td>1</td>\n",
       "      <td>Deaths</td>\n",
       "    </tr>\n",
       "    <tr>\n",
       "      <th>2</th>\n",
       "      <td>2012-01-31</td>\n",
       "      <td>41.179195</td>\n",
       "      <td>-73.189476</td>\n",
       "      <td>1</td>\n",
       "      <td>Deaths</td>\n",
       "    </tr>\n",
       "    <tr>\n",
       "      <th>3</th>\n",
       "      <td>2012-01-31</td>\n",
       "      <td>41.277971</td>\n",
       "      <td>-72.871954</td>\n",
       "      <td>1</td>\n",
       "      <td>Deaths</td>\n",
       "    </tr>\n",
       "    <tr>\n",
       "      <th>4</th>\n",
       "      <td>2012-01-31</td>\n",
       "      <td>41.308252</td>\n",
       "      <td>-72.924161</td>\n",
       "      <td>1</td>\n",
       "      <td>Deaths</td>\n",
       "    </tr>\n",
       "  </tbody>\n",
       "</table>\n",
       "</div>"
      ],
      "text/plain": [
       "        Date   Latitude  Longitude  Amount    Type\n",
       "0 2012-01-31  41.051924 -73.539475       1  Deaths\n",
       "1 2012-01-31  41.118050 -73.412906       1  Deaths\n",
       "2 2012-01-31  41.179195 -73.189476       1  Deaths\n",
       "3 2012-01-31  41.277971 -72.871954       1  Deaths\n",
       "4 2012-01-31  41.308252 -72.924161       1  Deaths"
      ]
     },
     "execution_count": 4,
     "metadata": {},
     "output_type": "execute_result"
    }
   ],
   "source": [
    "deaths_data_df.head()"
   ]
  },
  {
   "cell_type": "code",
   "execution_count": 5,
   "metadata": {},
   "outputs": [],
   "source": [
    "# load rehab centers dataset\n",
    "rhc_df = pd.read_csv(\"../opioid_deaths/Resources/TreatmentProgramsCT.csv\")"
   ]
  },
  {
   "cell_type": "code",
   "execution_count": 6,
   "metadata": {},
   "outputs": [
    {
     "name": "stderr",
     "output_type": "stream",
     "text": [
      "C:\\Users\\MEAGUILA\\Anaconda3\\lib\\site-packages\\ipykernel_launcher.py:6: SettingWithCopyWarning: \n",
      "A value is trying to be set on a copy of a slice from a DataFrame.\n",
      "Try using .loc[row_indexer,col_indexer] = value instead\n",
      "\n",
      "See the caveats in the documentation: http://pandas.pydata.org/pandas-docs/stable/indexing.html#indexing-view-versus-copy\n",
      "  \n",
      "C:\\Users\\MEAGUILA\\Anaconda3\\lib\\site-packages\\ipykernel_launcher.py:7: SettingWithCopyWarning: \n",
      "A value is trying to be set on a copy of a slice from a DataFrame.\n",
      "Try using .loc[row_indexer,col_indexer] = value instead\n",
      "\n",
      "See the caveats in the documentation: http://pandas.pydata.org/pandas-docs/stable/indexing.html#indexing-view-versus-copy\n",
      "  import sys\n",
      "C:\\Users\\MEAGUILA\\Anaconda3\\lib\\site-packages\\ipykernel_launcher.py:8: SettingWithCopyWarning: \n",
      "A value is trying to be set on a copy of a slice from a DataFrame.\n",
      "Try using .loc[row_indexer,col_indexer] = value instead\n",
      "\n",
      "See the caveats in the documentation: http://pandas.pydata.org/pandas-docs/stable/indexing.html#indexing-view-versus-copy\n",
      "  \n"
     ]
    }
   ],
   "source": [
    "rhc_data_df = pd.DataFrame()\n",
    "years_lst = [2012, 2013, 2013, 2014, 2015, 2016, 2017, 2018]\n",
    "\n",
    "for yr in years_lst:\n",
    "    tmp_df = rhc_df.iloc[ :,[8,9]]\n",
    "    tmp_df['Date'] = f\"{yr}-01-01\"\n",
    "    tmp_df['Amount'] = 3\n",
    "    tmp_df['Type'] = 'Rehab Ctr.'\n",
    "    rhc_data_df = pd.concat([rhc_data_df,tmp_df], sort=False)\n",
    "    \n",
    "rhc_data_df = rhc_data_df[[\"Date\",\"Latitude\",\"Longitude\",\"Amount\",\"Type\"]]"
   ]
  },
  {
   "cell_type": "code",
   "execution_count": 7,
   "metadata": {},
   "outputs": [
    {
     "data": {
      "text/html": [
       "<div>\n",
       "<style scoped>\n",
       "    .dataframe tbody tr th:only-of-type {\n",
       "        vertical-align: middle;\n",
       "    }\n",
       "\n",
       "    .dataframe tbody tr th {\n",
       "        vertical-align: top;\n",
       "    }\n",
       "\n",
       "    .dataframe thead th {\n",
       "        text-align: right;\n",
       "    }\n",
       "</style>\n",
       "<table border=\"1\" class=\"dataframe\">\n",
       "  <thead>\n",
       "    <tr style=\"text-align: right;\">\n",
       "      <th></th>\n",
       "      <th>Date</th>\n",
       "      <th>Latitude</th>\n",
       "      <th>Longitude</th>\n",
       "      <th>Amount</th>\n",
       "      <th>Type</th>\n",
       "    </tr>\n",
       "  </thead>\n",
       "  <tbody>\n",
       "    <tr>\n",
       "      <th>0</th>\n",
       "      <td>2012-01-01</td>\n",
       "      <td>41.212110</td>\n",
       "      <td>-73.206673</td>\n",
       "      <td>3</td>\n",
       "      <td>Rehab Ctr.</td>\n",
       "    </tr>\n",
       "    <tr>\n",
       "      <th>1</th>\n",
       "      <td>2012-01-01</td>\n",
       "      <td>41.209283</td>\n",
       "      <td>-73.164603</td>\n",
       "      <td>3</td>\n",
       "      <td>Rehab Ctr.</td>\n",
       "    </tr>\n",
       "    <tr>\n",
       "      <th>2</th>\n",
       "      <td>2012-01-01</td>\n",
       "      <td>41.209283</td>\n",
       "      <td>-73.164603</td>\n",
       "      <td>3</td>\n",
       "      <td>Rehab Ctr.</td>\n",
       "    </tr>\n",
       "    <tr>\n",
       "      <th>3</th>\n",
       "      <td>2012-01-01</td>\n",
       "      <td>41.161599</td>\n",
       "      <td>-73.217622</td>\n",
       "      <td>3</td>\n",
       "      <td>Rehab Ctr.</td>\n",
       "    </tr>\n",
       "    <tr>\n",
       "      <th>4</th>\n",
       "      <td>2012-01-01</td>\n",
       "      <td>41.681578</td>\n",
       "      <td>-72.940749</td>\n",
       "      <td>3</td>\n",
       "      <td>Rehab Ctr.</td>\n",
       "    </tr>\n",
       "  </tbody>\n",
       "</table>\n",
       "</div>"
      ],
      "text/plain": [
       "         Date   Latitude  Longitude  Amount        Type\n",
       "0  2012-01-01  41.212110 -73.206673       3  Rehab Ctr.\n",
       "1  2012-01-01  41.209283 -73.164603       3  Rehab Ctr.\n",
       "2  2012-01-01  41.209283 -73.164603       3  Rehab Ctr.\n",
       "3  2012-01-01  41.161599 -73.217622       3  Rehab Ctr.\n",
       "4  2012-01-01  41.681578 -72.940749       3  Rehab Ctr."
      ]
     },
     "execution_count": 7,
     "metadata": {},
     "output_type": "execute_result"
    }
   ],
   "source": [
    "rhc_data_df.head(5)"
   ]
  },
  {
   "cell_type": "code",
   "execution_count": 10,
   "metadata": {},
   "outputs": [],
   "source": [
    "visual_data_df = pd.concat([deaths_data_df, rhc_data_df])\n",
    "visual_data_df = visual_data_df.reset_index(inplace=False)"
   ]
  },
  {
   "cell_type": "code",
   "execution_count": 12,
   "metadata": {},
   "outputs": [],
   "source": [
    "visual_data_df.to_csv('deaths_rehab_2012_2018.csv', index=False)"
   ]
  },
  {
   "cell_type": "code",
   "execution_count": null,
   "metadata": {},
   "outputs": [],
   "source": []
  },
  {
   "cell_type": "code",
   "execution_count": null,
   "metadata": {},
   "outputs": [],
   "source": []
  },
  {
   "cell_type": "code",
   "execution_count": null,
   "metadata": {},
   "outputs": [],
   "source": []
  }
 ],
 "metadata": {
  "kernelspec": {
   "display_name": "Python 3",
   "language": "python",
   "name": "python3"
  },
  "language_info": {
   "codemirror_mode": {
    "name": "ipython",
    "version": 3
   },
   "file_extension": ".py",
   "mimetype": "text/x-python",
   "name": "python",
   "nbconvert_exporter": "python",
   "pygments_lexer": "ipython3",
   "version": "3.7.3"
  }
 },
 "nbformat": 4,
 "nbformat_minor": 2
}
