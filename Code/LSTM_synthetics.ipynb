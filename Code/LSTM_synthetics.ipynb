{
 "cells": [
  {
   "cell_type": "code",
   "execution_count": 1,
   "metadata": {},
   "outputs": [
    {
     "name": "stderr",
     "output_type": "stream",
     "text": [
      "Using TensorFlow backend.\n"
     ]
    }
   ],
   "source": [
    "import numpy as np\n",
    "import pandas as pd\n",
    "import matplotlib.pyplot as plt\n",
    "\n",
    "from statsmodels.tsa.arima_model import ARIMA\n",
    "\n",
    "from keras.models import Sequential\n",
    "from keras.layers import Dense\n",
    "from keras.layers import LSTM\n",
    "from sklearn.preprocessing import MinMaxScaler\n",
    "from sklearn.metrics import mean_absolute_error"
   ]
  },
  {
   "cell_type": "code",
   "execution_count": 2,
   "metadata": {},
   "outputs": [],
   "source": [
    "# load the dataset\n",
    "\n",
    "dd_df = pd.read_csv(\"../opioid_deaths/Data/Opioid_Related_Deaths_2012-2018.csv\")\n",
    "dd_df = dd_df.loc[dd_df[\"Drug_Category\"] == 'Synthetic Opioids']"
   ]
  },
  {
   "cell_type": "code",
   "execution_count": 3,
   "metadata": {},
   "outputs": [],
   "source": [
    "dd_df.index = pd.to_datetime(dd_df['Date'],infer_datetime_format=True)"
   ]
  },
  {
   "cell_type": "code",
   "execution_count": 4,
   "metadata": {},
   "outputs": [
    {
     "data": {
      "image/png": "[encoded data removed]",
      "text/plain": [
       "<Figure size 432x288 with 1 Axes>"
      ]
     },
     "metadata": {
      "needs_background": "light"
     },
     "output_type": "display_data"
    }
   ],
   "source": [
    "# extract time series\n",
    "# Group and count deaths by month \n",
    "time_series_data = dd_df.groupby(pd.Grouper(freq='W')).count()[\"ID\"]\n",
    "\n",
    "# plot data\n",
    "plt.plot(time_series_data.values)\n",
    "plt.show()"
   ]
  },
  {
   "cell_type": "code",
   "execution_count": 5,
   "metadata": {},
   "outputs": [],
   "source": [
    "# ============================ LSTM ============================\n",
    "# https://machinelearningmastery.com/time-series-prediction-lstm-recurrent-neural-networks-python-keras/\n",
    "\n",
    "# Function to convert an array of values into a dataset matrix\n",
    "def create_dataset(data, look_back):\n",
    "    dataX, dataY = [], []\n",
    "    for i in range(len(data)-look_back-1):\n",
    "        a = data[i:(i+look_back), 0]\n",
    "        dataX.append(a)\n",
    "        dataY.append(data[i + look_back, 0])\n",
    "    \n",
    "    return np.array(dataX), np.array(dataY)"
   ]
  },
  {
   "cell_type": "code",
   "execution_count": 6,
   "metadata": {},
   "outputs": [
    {
     "name": "stderr",
     "output_type": "stream",
     "text": [
      "C:\\Users\\MEAGUILA\\Anaconda3\\lib\\site-packages\\sklearn\\utils\\validation.py:595: DataConversionWarning: Data with input dtype int64 was converted to float64 by MinMaxScaler.\n",
      "  warnings.warn(msg, DataConversionWarning)\n"
     ]
    }
   ],
   "source": [
    "# look back 40 data points (months) to make prediction\n",
    "look_back = 40\n",
    "\n",
    "# normalize the dataset\n",
    "# All values should be between 0 and 1. Requirement for neural networks\n",
    "data = np.reshape(time_series_data.values, (-1, 1))\n",
    "scaler = MinMaxScaler(feature_range=(0, 1))\n",
    "data = scaler.fit_transform(data)\n",
    "\n",
    "data_train = data[:300]\n",
    "data_test = data[(300-look_back+1):]\n",
    "\n",
    "X_train, y_train = create_dataset(data_train, look_back)\n",
    "X_test, y_test = create_dataset(data_test, look_back)"
   ]
  },
  {
   "cell_type": "code",
   "execution_count": 7,
   "metadata": {},
   "outputs": [],
   "source": [
    "# reshape input to be [samples, time steps, features]\n",
    "# Requirement for the model converting from a 2D to a 3D array\n",
    "X_train = np.reshape(X_train, (X_train.shape[0], 1, X_train.shape[1]))\n",
    "X_test = np.reshape(X_test, (X_test.shape[0], 1, X_test.shape[1]))"
   ]
  },
  {
   "cell_type": "code",
   "execution_count": 8,
   "metadata": {},
   "outputs": [
    {
     "name": "stdout",
     "output_type": "stream",
     "text": [
      "Epoch 1/50\n",
      " - 1s - loss: 0.0151\n",
      "Epoch 2/50\n",
      " - 1s - loss: 0.0127\n",
      "Epoch 3/50\n",
      " - 1s - loss: 0.0121\n",
      "Epoch 4/50\n",
      " - 1s - loss: 0.0113\n",
      "Epoch 5/50\n",
      " - 1s - loss: 0.0117\n",
      "Epoch 6/50\n",
      " - 1s - loss: 0.0117\n",
      "Epoch 7/50\n",
      " - 1s - loss: 0.0116\n",
      "Epoch 8/50\n",
      " - 1s - loss: 0.0112\n",
      "Epoch 9/50\n",
      " - 1s - loss: 0.0112\n",
      "Epoch 10/50\n",
      " - 1s - loss: 0.0109\n",
      "Epoch 11/50\n",
      " - 1s - loss: 0.0112\n",
      "Epoch 12/50\n",
      " - 1s - loss: 0.0112\n",
      "Epoch 13/50\n",
      " - 1s - loss: 0.0108\n",
      "Epoch 14/50\n",
      " - 1s - loss: 0.0107\n",
      "Epoch 15/50\n",
      " - 1s - loss: 0.0109\n",
      "Epoch 16/50\n",
      " - 1s - loss: 0.0107\n",
      "Epoch 17/50\n",
      " - 1s - loss: 0.0107\n",
      "Epoch 18/50\n",
      " - 1s - loss: 0.0101\n",
      "Epoch 19/50\n",
      " - 1s - loss: 0.0101\n",
      "Epoch 20/50\n",
      " - 1s - loss: 0.0106\n",
      "Epoch 21/50\n",
      " - 1s - loss: 0.0103\n",
      "Epoch 22/50\n",
      " - 1s - loss: 0.0100\n",
      "Epoch 23/50\n",
      " - 1s - loss: 0.0104\n",
      "Epoch 24/50\n",
      " - 1s - loss: 0.0103\n",
      "Epoch 25/50\n",
      " - 1s - loss: 0.0103\n",
      "Epoch 26/50\n",
      " - 1s - loss: 0.0098\n",
      "Epoch 27/50\n",
      " - 1s - loss: 0.0094\n",
      "Epoch 28/50\n",
      " - 1s - loss: 0.0097\n",
      "Epoch 29/50\n",
      " - 1s - loss: 0.0100\n",
      "Epoch 30/50\n",
      " - 1s - loss: 0.0098\n",
      "Epoch 31/50\n",
      " - 1s - loss: 0.0096\n",
      "Epoch 32/50\n",
      " - 1s - loss: 0.0096\n",
      "Epoch 33/50\n",
      " - 1s - loss: 0.0096\n",
      "Epoch 34/50\n",
      " - 1s - loss: 0.0091\n",
      "Epoch 35/50\n",
      " - 1s - loss: 0.0097\n",
      "Epoch 36/50\n",
      " - 1s - loss: 0.0092\n",
      "Epoch 37/50\n",
      " - 1s - loss: 0.0096\n",
      "Epoch 38/50\n",
      " - 1s - loss: 0.0088\n",
      "Epoch 39/50\n",
      " - 1s - loss: 0.0085\n",
      "Epoch 40/50\n",
      " - 1s - loss: 0.0087\n",
      "Epoch 41/50\n",
      " - 1s - loss: 0.0087\n",
      "Epoch 42/50\n",
      " - 1s - loss: 0.0085\n",
      "Epoch 43/50\n",
      " - 1s - loss: 0.0083\n",
      "Epoch 44/50\n",
      " - 1s - loss: 0.0089\n",
      "Epoch 45/50\n",
      " - 1s - loss: 0.0081\n",
      "Epoch 46/50\n",
      " - 1s - loss: 0.0089\n",
      "Epoch 47/50\n",
      " - 1s - loss: 0.0083\n",
      "Epoch 48/50\n",
      " - 1s - loss: 0.0082\n",
      "Epoch 49/50\n",
      " - 1s - loss: 0.0079\n",
      "Epoch 50/50\n",
      " - 1s - loss: 0.0078\n"
     ]
    },
    {
     "data": {
      "text/plain": [
       "<keras.callbacks.callbacks.History at 0x17edef26668>"
      ]
     },
     "execution_count": 8,
     "metadata": {},
     "output_type": "execute_result"
    }
   ],
   "source": [
    "# create model and fit the LSTM network\n",
    "model = Sequential()\n",
    "model.add(LSTM(50, input_shape=(1, look_back))) # 50 LSTM blocks\n",
    "model.add(Dense(1)) # output\n",
    "model.compile(loss='mean_squared_error', optimizer='adam')\n",
    "model.fit(X_train, y_train, epochs=50, batch_size=1, verbose=2) #epoch - iterations **play batch-size"
   ]
  },
  {
   "cell_type": "code",
   "execution_count": 9,
   "metadata": {},
   "outputs": [],
   "source": [
    "# Verify the model\n",
    "y_pred = []\n",
    "\n",
    "# forecast the next 50 data points\n",
    "for val in X_test:\n",
    "    pred = model.predict(val.reshape(1,1,look_back))\n",
    "    y_pred = np.append(y_pred,pred)\n",
    "#     val = np.append(np.delete(val, 0), pred) # update the data batch to be fed in the next iteration"
   ]
  },
  {
   "cell_type": "code",
   "execution_count": 10,
   "metadata": {},
   "outputs": [
    {
     "data": {
      "text/plain": [
       "0.1805313785197371"
      ]
     },
     "execution_count": 10,
     "metadata": {},
     "output_type": "execute_result"
    }
   ],
   "source": [
    "mean_absolute_error(y_pred, y_test)"
   ]
  },
  {
   "cell_type": "code",
   "execution_count": 11,
   "metadata": {},
   "outputs": [],
   "source": [
    "# make prediction\n",
    "val = data[-look_back:] # last batch in the training data\n",
    "predictions = []\n",
    "\n",
    "# forecast the next 50 data points\n",
    "for _ in range(50):\n",
    "    pred = model.predict(val.reshape(1,1,look_back))\n",
    "    predictions = np.append(predictions,pred)\n",
    "    val = np.append(np.delete(val, 0), pred) # update the data batch to be fed in the next iteration\n",
    "    \n",
    "predictions = predictions.reshape(predictions.shape[0],1)"
   ]
  },
  {
   "cell_type": "code",
   "execution_count": 12,
   "metadata": {},
   "outputs": [],
   "source": [
    "# reverse forecasted results to its original scale\n",
    "predictions = scaler.inverse_transform(predictions)"
   ]
  },
  {
   "cell_type": "code",
   "execution_count": 13,
   "metadata": {},
   "outputs": [
    {
     "data": {
      "image/png": "[encoded data removed]",
      "text/plain": [
       "<Figure size 432x288 with 1 Axes>"
      ]
     },
     "metadata": {
      "needs_background": "light"
     },
     "output_type": "display_data"
    }
   ],
   "source": [
    "# plot\n",
    "data_len = len(data)\n",
    "plt.plot(list(range(data_len)),time_series_data.values,label=\"actual data\")\n",
    "plt.plot(list(range(data_len,data_len+len(predictions))),predictions,label=\"predicted data\")\n",
    "plt.legend()\n",
    "plt.show()"
   ]
  },
  {
   "cell_type": "code",
   "execution_count": 14,
   "metadata": {},
   "outputs": [
    {
     "name": "stderr",
     "output_type": "stream",
     "text": [
      "C:\\Users\\MEAGUILA\\Anaconda3\\lib\\site-packages\\ipykernel_launcher.py:1: FutureWarning: The signature of `Series.to_csv` was aligned to that of `DataFrame.to_csv`, and argument 'header' will change its default value from False to True: please pass an explicit value to suppress this warning.\n",
      "  \"\"\"Entry point for launching an IPython kernel.\n"
     ]
    }
   ],
   "source": [
    "time_series_data.to_csv('predictions_synt.csv')"
   ]
  },
  {
   "cell_type": "code",
   "execution_count": null,
   "metadata": {},
   "outputs": [],
   "source": []
  },
  {
   "cell_type": "code",
   "execution_count": null,
   "metadata": {},
   "outputs": [],
   "source": []
  }
 ],
 "metadata": {
  "kernelspec": {
   "display_name": "Python 3",
   "language": "python",
   "name": "python3"
  },
  "language_info": {
   "codemirror_mode": {
    "name": "ipython",
    "version": 3
   },
   "file_extension": ".py",
   "mimetype": "text/x-python",
   "name": "python",
   "nbconvert_exporter": "python",
   "pygments_lexer": "ipython3",
   "version": "3.7.3"
  }
 },
 "nbformat": 4,
 "nbformat_minor": 2
}
