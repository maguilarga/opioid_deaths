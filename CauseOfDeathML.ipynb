{
 "cells": [
  {
   "cell_type": "code",
   "execution_count": 96,
   "metadata": {},
   "outputs": [],
   "source": [
    "import warnings\n",
    "warnings.simplefilter('ignore')\n",
    "from sklearn import tree\n",
    "# %matplotlib inline\n",
    "import matplotlib.pyplot as plt\n",
    "import numpy as np\n",
    "import pandas as pd"
   ]
  },
  {
   "cell_type": "code",
   "execution_count": 97,
   "metadata": {},
   "outputs": [
    {
     "data": {
      "text/plain": [
       "ID                      4494\n",
       "Date                    4494\n",
       "Age                     4494\n",
       "Sex                     4494\n",
       "Race                    4494\n",
       "ResidenceCity           4341\n",
       "ResidenceCounty         3813\n",
       "ResidenceState          3218\n",
       "DeathCity               4494\n",
       "DeathCounty             3507\n",
       "Location                4479\n",
       "LocationifOther          534\n",
       "DescriptionofInjury     3819\n",
       "InjuryPlace             4444\n",
       "InjuryCity              3048\n",
       "InjuryCounty            2153\n",
       "InjuryState             1288\n",
       "COD                     4494\n",
       "Heroin                  4494\n",
       "Synthetic Opioids       4494\n",
       "Prescription Opioids    4494\n",
       "DeathCityGeo            4494\n",
       "DeathCityLat            4494\n",
       "DeathCityLong           4494\n",
       "Drug_Category           4494\n",
       "dtype: int64"
      ]
     },
     "execution_count": 97,
     "metadata": {},
     "output_type": "execute_result"
    }
   ],
   "source": [
    "# Create df without NaNs\n",
    "deaths = pd.read_csv('Data/Opioid_Related_Deaths_2012-2018.csv')\n",
    "deaths_nonan = deaths.dropna(subset=['Age', 'Sex','Race'])\n",
    "deaths_nonan.count()"
   ]
  },
  {
   "cell_type": "code",
   "execution_count": 111,
   "metadata": {},
   "outputs": [
    {
     "data": {
      "text/plain": [
       "HARTFORD             486\n",
       "WATERBURY            317\n",
       "NEW HAVEN            315\n",
       "BRIDGEPORT           296\n",
       "NEW BRITAIN          203\n",
       "BRISTOL              128\n",
       "MERIDEN              127\n",
       "NORWICH              124\n",
       "NEW LONDON           120\n",
       "TORRINGTON           111\n",
       "DANBURY              105\n",
       "MANCHESTER            95\n",
       "MIDDLETOWN            87\n",
       "ENFIELD               73\n",
       "EAST HARTFORD         67\n",
       "MILFORD               64\n",
       "STAMFORD              63\n",
       "NORWALK               60\n",
       "WEST HAVEN            60\n",
       "DERBY                 56\n",
       "SOUTHINGTON           49\n",
       "STRATFORD             48\n",
       "WILLIMANTIC           46\n",
       "HAMDEN                44\n",
       "VERNON                43\n",
       "GROTON                42\n",
       "NEW MILFORD           41\n",
       "NAUGATUCK             38\n",
       "BRANFORD              33\n",
       "WALLINGFORD           32\n",
       "                    ... \n",
       "WASHINGTON             1\n",
       "06340                  1\n",
       "EAST CANAAN            1\n",
       "BETHLEHEM              1\n",
       "WILTON                 1\n",
       "NEW PRESTON            1\n",
       "WEATOGUE               1\n",
       "AMSTON                 1\n",
       "CHAPLIN                1\n",
       "WAUREGAN               1\n",
       "SPRAGUE                1\n",
       "EAST HARTLAND          1\n",
       "NORTH WINDHAM          1\n",
       "NORTH WINDAM           1\n",
       "TARIFFVILLE            1\n",
       "STAFFORD SPGS          1\n",
       "BOZRAH                 1\n",
       "BAKERSVILLE            1\n",
       "MORRIS                 1\n",
       "WARREN                 1\n",
       "MIDDLEFIELD            1\n",
       "HANOVER                1\n",
       "ROGERS                 1\n",
       "NO HAVEN               1\n",
       "LITCHFIELD             1\n",
       "S GLASTONBURY          1\n",
       "CORNWALL BRIDGE        1\n",
       "EAST WOODSTOCK         1\n",
       "GROTON LONG POINT      1\n",
       "ONECO                  1\n",
       "Name: DeathCity, Length: 219, dtype: int64"
      ]
     },
     "execution_count": 111,
     "metadata": {},
     "output_type": "execute_result"
    }
   ],
   "source": [
    "# Clean up data with only columns needed\n",
    "deaths_forML = deaths_nonan[['Age', 'Sex', 'Race', 'DeathCity', 'Drug_Category'\n",
    "       ]]\n",
    "deaths_forML['DeathCity'].value_counts()"
   ]
  },
  {
   "cell_type": "code",
   "execution_count": 121,
   "metadata": {},
   "outputs": [
    {
     "name": "stdout",
     "output_type": "stream",
     "text": [
      "(4494, 3) (4494, 1)\n"
     ]
    }
   ],
   "source": [
    "# Reshape data\n",
    "X = deaths_forML[[\"Age\", \"Sex\", \"Race\"]]\n",
    "y = deaths_forML[\"Drug_Category\"].values.reshape(-1, 1)\n",
    "print(X.shape, y.shape)"
   ]
  },
  {
   "cell_type": "code",
   "execution_count": 122,
   "metadata": {},
   "outputs": [],
   "source": [
    "# Reformat data to numeric\n",
    "\n",
    "\n",
    "\n",
    "# y = pd.get_dummies(deaths_forML['Drug_Category'])\n",
    "X = pd.get_dummies(X)\n",
    "\n",
    "# data = deaths_forML.values\n",
    "\n",
    "# X = data[:, 0:4]\n",
    "# y = data[:, 4]\n",
    "\n"
   ]
  },
  {
   "cell_type": "code",
   "execution_count": 101,
   "metadata": {},
   "outputs": [],
   "source": [
    "# from sklearn.preprocessing import LabelEncoder\n",
    "\n",
    "# # Step 1: Label-encode data set\n",
    "# label_encoder = LabelEncoder()\n",
    "# label_encoder.fit(y)\n",
    "# encoded_y = label_encoder.transform(y)"
   ]
  },
  {
   "cell_type": "code",
   "execution_count": 102,
   "metadata": {},
   "outputs": [],
   "source": [
    "# for label, original_class in zip(encoded_y, y):\n",
    "#     print('Original Class: ' + str(original_class))\n",
    "#     print('Encoded Label: ' + str(label))\n",
    "#     print('-' * 12)"
   ]
  },
  {
   "cell_type": "code",
   "execution_count": 103,
   "metadata": {},
   "outputs": [],
   "source": [
    "# from keras.utils import to_categorical\n",
    "\n",
    "# # Step 2: One-hot encoding\n",
    "# one_hot_y = to_categorical(encoded_y)\n",
    "# one_hot_y"
   ]
  },
  {
   "cell_type": "code",
   "execution_count": 123,
   "metadata": {},
   "outputs": [
    {
     "data": {
      "text/html": [
       "<div>\n",
       "<style scoped>\n",
       "    .dataframe tbody tr th:only-of-type {\n",
       "        vertical-align: middle;\n",
       "    }\n",
       "\n",
       "    .dataframe tbody tr th {\n",
       "        vertical-align: top;\n",
       "    }\n",
       "\n",
       "    .dataframe thead th {\n",
       "        text-align: right;\n",
       "    }\n",
       "</style>\n",
       "<table border=\"1\" class=\"dataframe\">\n",
       "  <thead>\n",
       "    <tr style=\"text-align: right;\">\n",
       "      <th></th>\n",
       "      <th>Age</th>\n",
       "      <th>Sex_Female</th>\n",
       "      <th>Sex_Male</th>\n",
       "      <th>Sex_Unknown</th>\n",
       "      <th>Race_Asian Indian</th>\n",
       "      <th>Race_Asian, Other</th>\n",
       "      <th>Race_Black</th>\n",
       "      <th>Race_Chinese</th>\n",
       "      <th>Race_Hawaiian</th>\n",
       "      <th>Race_Hispanic, Black</th>\n",
       "      <th>Race_Hispanic, White</th>\n",
       "      <th>Race_Native American, Other</th>\n",
       "      <th>Race_Other</th>\n",
       "      <th>Race_Unknown</th>\n",
       "      <th>Race_White</th>\n",
       "    </tr>\n",
       "  </thead>\n",
       "  <tbody>\n",
       "    <tr>\n",
       "      <th>3594</th>\n",
       "      <td>60.0</td>\n",
       "      <td>0</td>\n",
       "      <td>1</td>\n",
       "      <td>0</td>\n",
       "      <td>0</td>\n",
       "      <td>0</td>\n",
       "      <td>0</td>\n",
       "      <td>0</td>\n",
       "      <td>0</td>\n",
       "      <td>0</td>\n",
       "      <td>0</td>\n",
       "      <td>0</td>\n",
       "      <td>0</td>\n",
       "      <td>0</td>\n",
       "      <td>1</td>\n",
       "    </tr>\n",
       "    <tr>\n",
       "      <th>1413</th>\n",
       "      <td>46.0</td>\n",
       "      <td>0</td>\n",
       "      <td>1</td>\n",
       "      <td>0</td>\n",
       "      <td>0</td>\n",
       "      <td>0</td>\n",
       "      <td>0</td>\n",
       "      <td>0</td>\n",
       "      <td>0</td>\n",
       "      <td>0</td>\n",
       "      <td>0</td>\n",
       "      <td>0</td>\n",
       "      <td>0</td>\n",
       "      <td>0</td>\n",
       "      <td>1</td>\n",
       "    </tr>\n",
       "    <tr>\n",
       "      <th>1150</th>\n",
       "      <td>49.0</td>\n",
       "      <td>0</td>\n",
       "      <td>1</td>\n",
       "      <td>0</td>\n",
       "      <td>0</td>\n",
       "      <td>0</td>\n",
       "      <td>0</td>\n",
       "      <td>0</td>\n",
       "      <td>0</td>\n",
       "      <td>0</td>\n",
       "      <td>0</td>\n",
       "      <td>0</td>\n",
       "      <td>0</td>\n",
       "      <td>0</td>\n",
       "      <td>1</td>\n",
       "    </tr>\n",
       "    <tr>\n",
       "      <th>105</th>\n",
       "      <td>36.0</td>\n",
       "      <td>1</td>\n",
       "      <td>0</td>\n",
       "      <td>0</td>\n",
       "      <td>0</td>\n",
       "      <td>0</td>\n",
       "      <td>0</td>\n",
       "      <td>0</td>\n",
       "      <td>0</td>\n",
       "      <td>0</td>\n",
       "      <td>0</td>\n",
       "      <td>0</td>\n",
       "      <td>0</td>\n",
       "      <td>0</td>\n",
       "      <td>1</td>\n",
       "    </tr>\n",
       "    <tr>\n",
       "      <th>3834</th>\n",
       "      <td>48.0</td>\n",
       "      <td>1</td>\n",
       "      <td>0</td>\n",
       "      <td>0</td>\n",
       "      <td>0</td>\n",
       "      <td>0</td>\n",
       "      <td>0</td>\n",
       "      <td>0</td>\n",
       "      <td>0</td>\n",
       "      <td>0</td>\n",
       "      <td>0</td>\n",
       "      <td>0</td>\n",
       "      <td>0</td>\n",
       "      <td>0</td>\n",
       "      <td>1</td>\n",
       "    </tr>\n",
       "  </tbody>\n",
       "</table>\n",
       "</div>"
      ],
      "text/plain": [
       "       Age  Sex_Female  Sex_Male  Sex_Unknown  Race_Asian Indian  \\\n",
       "3594  60.0           0         1            0                  0   \n",
       "1413  46.0           0         1            0                  0   \n",
       "1150  49.0           0         1            0                  0   \n",
       "105   36.0           1         0            0                  0   \n",
       "3834  48.0           1         0            0                  0   \n",
       "\n",
       "      Race_Asian, Other  Race_Black  Race_Chinese  Race_Hawaiian  \\\n",
       "3594                  0           0             0              0   \n",
       "1413                  0           0             0              0   \n",
       "1150                  0           0             0              0   \n",
       "105                   0           0             0              0   \n",
       "3834                  0           0             0              0   \n",
       "\n",
       "      Race_Hispanic, Black  Race_Hispanic, White  Race_Native American, Other  \\\n",
       "3594                     0                     0                            0   \n",
       "1413                     0                     0                            0   \n",
       "1150                     0                     0                            0   \n",
       "105                      0                     0                            0   \n",
       "3834                     0                     0                            0   \n",
       "\n",
       "      Race_Other  Race_Unknown  Race_White  \n",
       "3594           0             0           1  \n",
       "1413           0             0           1  \n",
       "1150           0             0           1  \n",
       "105            0             0           1  \n",
       "3834           0             0           1  "
      ]
     },
     "execution_count": 123,
     "metadata": {},
     "output_type": "execute_result"
    }
   ],
   "source": [
    "from sklearn.model_selection import train_test_split\n",
    "\n",
    "# X = pd.get_dummies(X)\n",
    "# y = pd.get_dummies(y)\n",
    "\n",
    "X_train, X_test, y_train, y_test = train_test_split(X, y, random_state=42)\n",
    "\n",
    "X_train.head()"
   ]
  },
  {
   "cell_type": "code",
   "execution_count": 115,
   "metadata": {},
   "outputs": [],
   "source": [
    "# from sklearn.preprocessing import StandardScaler\n",
    "# X_scaler = StandardScaler().fit(X_train)\n",
    "# y_scaler = StandardScaler().fit(y_train)\n",
    "\n",
    "# X_train_scaled = X_scaler.transform(X_train)\n",
    "# X_test_scaled = X_scaler.transform(X_test)\n",
    "# y_train_scaled = y_scaler.transform(y_train)\n",
    "# y_test_scaled = y_scaler.transform(y_test)"
   ]
  },
  {
   "cell_type": "code",
   "execution_count": 106,
   "metadata": {},
   "outputs": [
    {
     "ename": "AttributeError",
     "evalue": "'numpy.ndarray' object has no attribute 'columns'",
     "output_type": "error",
     "traceback": [
      "\u001b[0;31m---------------------------------------------------------------------------\u001b[0m",
      "\u001b[0;31mAttributeError\u001b[0m                            Traceback (most recent call last)",
      "\u001b[0;32m<ipython-input-106-5f2fed46b562>\u001b[0m in \u001b[0;36m<module>\u001b[0;34m\u001b[0m\n\u001b[0;32m----> 1\u001b[0;31m \u001b[0mfeature_names\u001b[0m \u001b[0;34m=\u001b[0m \u001b[0mdata\u001b[0m\u001b[0;34m.\u001b[0m\u001b[0mcolumns\u001b[0m\u001b[0;34m\u001b[0m\u001b[0;34m\u001b[0m\u001b[0m\n\u001b[0m",
      "\u001b[0;31mAttributeError\u001b[0m: 'numpy.ndarray' object has no attribute 'columns'"
     ]
    }
   ],
   "source": [
    "# feature_names = data.columns"
   ]
  },
  {
   "cell_type": "code",
   "execution_count": 116,
   "metadata": {},
   "outputs": [
    {
     "data": {
      "text/plain": [
       "0.4332740213523132"
      ]
     },
     "execution_count": 116,
     "metadata": {},
     "output_type": "execute_result"
    }
   ],
   "source": [
    "clf = tree.DecisionTreeClassifier()\n",
    "clf = clf.fit(X_train, y_train)\n",
    "clf.score(X_test, y_test)"
   ]
  },
  {
   "cell_type": "code",
   "execution_count": 117,
   "metadata": {},
   "outputs": [
    {
     "data": {
      "text/plain": [
       "0.46174377224199287"
      ]
     },
     "execution_count": 117,
     "metadata": {},
     "output_type": "execute_result"
    }
   ],
   "source": [
    "from sklearn.ensemble import RandomForestClassifier\n",
    "rf = RandomForestClassifier(n_estimators=200) # nj\n",
    "rf = rf.fit(X_train, y_train)\n",
    "rf.score(X_test, y_test)"
   ]
  },
  {
   "cell_type": "code",
   "execution_count": 118,
   "metadata": {},
   "outputs": [
    {
     "data": {
      "text/plain": [
       "[(0.851136542346324, 'Age'),\n",
       " (0.02989651249809991, 'Sex_Male'),\n",
       " (0.02928773218112136, 'Sex_Female'),\n",
       " (0.021374587222909178, 'Race_White'),\n",
       " (0.017725368571192567, 'Race_Black'),\n",
       " (0.01519159004023897, 'Race_Hispanic, White'),\n",
       " (0.008282284092851496, 'Race_Hispanic, Black'),\n",
       " (0.005402993383615741, 'Race_Other'),\n",
       " (0.005280351926442865, 'Race_Unknown'),\n",
       " (0.00479822155091215, 'Race_Asian, Other'),\n",
       " (0.0040995028444219895, 'Race_Asian Indian'),\n",
       " (0.0034937054972860636, 'Race_Native American, Other'),\n",
       " (0.0022333416488500204, 'Race_Hawaiian'),\n",
       " (0.0017972661957337823, 'Sex_Unknown'),\n",
       " (0.0, 'Race_Chinese')]"
      ]
     },
     "execution_count": 118,
     "metadata": {},
     "output_type": "execute_result"
    }
   ],
   "source": [
    "sorted(zip(rf.feature_importances_, feature_names), reverse=True)"
   ]
  },
  {
   "cell_type": "code",
   "execution_count": 124,
   "metadata": {},
   "outputs": [
    {
     "data": {
      "text/plain": [
       "0.5578291814946619"
      ]
     },
     "execution_count": 124,
     "metadata": {},
     "output_type": "execute_result"
    }
   ],
   "source": [
    "from xgboost import XGBClassifier\n",
    "xgb = XGBClassifier()\n",
    "xgb = xgb.fit(X_train, y_train)\n",
    "xgb.score(X_test, y_test)\n"
   ]
  },
  {
   "cell_type": "code",
   "execution_count": 125,
   "metadata": {},
   "outputs": [
    {
     "data": {
      "text/plain": [
       "[(0.3227418, 'Sex_Male'),\n",
       " (0.14351587, 'Race_White'),\n",
       " (0.121429764, 'Race_Black'),\n",
       " (0.1028243, 'Age'),\n",
       " (0.07683327, 'Sex_Female'),\n",
       " (0.061097395, 'Race_Hispanic, White'),\n",
       " (0.046689387, 'Race_Hispanic, Black'),\n",
       " (0.034673393, 'Race_Other'),\n",
       " (0.031979788, 'Race_Asian Indian'),\n",
       " (0.030932447, 'Race_Unknown'),\n",
       " (0.027282635, 'Race_Asian, Other'),\n",
       " (0.0, 'Sex_Unknown'),\n",
       " (0.0, 'Race_Native American, Other'),\n",
       " (0.0, 'Race_Hawaiian'),\n",
       " (0.0, 'Race_Chinese')]"
      ]
     },
     "execution_count": 125,
     "metadata": {},
     "output_type": "execute_result"
    }
   ],
   "source": [
    "sorted(zip(xgb.feature_importances_, feature_names), reverse=True)"
   ]
  },
  {
   "cell_type": "code",
   "execution_count": 128,
   "metadata": {},
   "outputs": [
    {
     "data": {
      "image/png": "[encoded data removed]",
      "text/plain": [
       "<Figure size 576x540 with 1 Axes>"
      ]
     },
     "metadata": {
      "needs_background": "light"
     },
     "output_type": "display_data"
    }
   ],
   "source": [
    "import shap\n",
    "explainer = shap.TreeExplainer(xgb)\n",
    "shap_values = explainer.shap_values(X_test)\n",
    "shap.summary_plot(shap_values, X_test,plot_type=\"bar\")"
   ]
  },
  {
   "cell_type": "code",
   "execution_count": null,
   "metadata": {},
   "outputs": [],
   "source": []
  }
 ],
 "metadata": {
  "kernelspec": {
   "display_name": "Python 3",
   "language": "python",
   "name": "python3"
  },
  "language_info": {
   "codemirror_mode": {
    "name": "ipython",
    "version": 3
   },
   "file_extension": ".py",
   "mimetype": "text/x-python",
   "name": "python",
   "nbconvert_exporter": "python",
   "pygments_lexer": "ipython3",
   "version": "3.7.3"
  }
 },
 "nbformat": 4,
 "nbformat_minor": 2
}
