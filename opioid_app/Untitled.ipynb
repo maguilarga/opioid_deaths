{
 "cells": [
  {
   "cell_type": "code",
   "execution_count": 2,
   "metadata": {},
   "outputs": [],
   "source": [
    "import warnings\n",
    "warnings.simplefilter('ignore')\n",
    "\n",
    "# %matplotlib inline\n",
    "import matplotlib.pyplot as plt\n",
    "import numpy as np\n",
    "import pandas as pd"
   ]
  },
  {
   "cell_type": "code",
   "execution_count": 13,
   "metadata": {},
   "outputs": [
    {
     "data": {
      "text/plain": [
       "ID                      4494\n",
       "Date                    4494\n",
       "Age                     4494\n",
       "Sex                     4494\n",
       "Race                    4494\n",
       "ResidenceCity           4341\n",
       "ResidenceCounty         3813\n",
       "ResidenceState          3218\n",
       "DeathCity               4494\n",
       "DeathCounty             3507\n",
       "Location                4479\n",
       "LocationifOther          534\n",
       "DescriptionofInjury     3819\n",
       "InjuryPlace             4444\n",
       "InjuryCity              3048\n",
       "InjuryCounty            2153\n",
       "InjuryState             1288\n",
       "COD                     4494\n",
       "Heroin                  4494\n",
       "Synthetic Opioids       4494\n",
       "Prescription Opioids    4494\n",
       "DeathCityGeo            4494\n",
       "DeathCityLat            4494\n",
       "DeathCityLong           4494\n",
       "Drug_Category           4494\n",
       "dtype: int64"
      ]
     },
     "execution_count": 13,
     "metadata": {},
     "output_type": "execute_result"
    }
   ],
   "source": [
    "deaths = pd.read_csv('Data/Opioid_Related_Deaths_2012-2018.csv')\n",
    "deaths_nonan = deaths.dropna(subset=['Age', 'Sex','Race','DeathCity'])\n",
    "deaths_nonan.count()"
   ]
  },
  {
   "cell_type": "code",
   "execution_count": 15,
   "metadata": {},
   "outputs": [
    {
     "data": {
      "text/html": [
       "<div>\n",
       "<style scoped>\n",
       "    .dataframe tbody tr th:only-of-type {\n",
       "        vertical-align: middle;\n",
       "    }\n",
       "\n",
       "    .dataframe tbody tr th {\n",
       "        vertical-align: top;\n",
       "    }\n",
       "\n",
       "    .dataframe thead th {\n",
       "        text-align: right;\n",
       "    }\n",
       "</style>\n",
       "<table border=\"1\" class=\"dataframe\">\n",
       "  <thead>\n",
       "    <tr style=\"text-align: right;\">\n",
       "      <th></th>\n",
       "      <th>ID</th>\n",
       "      <th>Age</th>\n",
       "      <th>Sex</th>\n",
       "      <th>Race</th>\n",
       "      <th>DeathCity</th>\n",
       "      <th>Drug_Category</th>\n",
       "    </tr>\n",
       "  </thead>\n",
       "  <tbody>\n",
       "    <tr>\n",
       "      <th>1</th>\n",
       "      <td>16-0165</td>\n",
       "      <td>30.0</td>\n",
       "      <td>Female</td>\n",
       "      <td>White</td>\n",
       "      <td>DANBURY</td>\n",
       "      <td>Heroin</td>\n",
       "    </tr>\n",
       "    <tr>\n",
       "      <th>2</th>\n",
       "      <td>16-0208</td>\n",
       "      <td>23.0</td>\n",
       "      <td>Male</td>\n",
       "      <td>White</td>\n",
       "      <td>GREENWICH</td>\n",
       "      <td>Heroin</td>\n",
       "    </tr>\n",
       "    <tr>\n",
       "      <th>3</th>\n",
       "      <td>13-0052</td>\n",
       "      <td>22.0</td>\n",
       "      <td>Male</td>\n",
       "      <td>Asian, Other</td>\n",
       "      <td>GREENWICH</td>\n",
       "      <td>Synthetic Opioids</td>\n",
       "    </tr>\n",
       "    <tr>\n",
       "      <th>4</th>\n",
       "      <td>14-0277</td>\n",
       "      <td>23.0</td>\n",
       "      <td>Male</td>\n",
       "      <td>White</td>\n",
       "      <td>BRISTOL</td>\n",
       "      <td>Heroin</td>\n",
       "    </tr>\n",
       "    <tr>\n",
       "      <th>5</th>\n",
       "      <td>12-0205</td>\n",
       "      <td>21.0</td>\n",
       "      <td>Female</td>\n",
       "      <td>White</td>\n",
       "      <td>WEST HARTFORD</td>\n",
       "      <td>Heroin</td>\n",
       "    </tr>\n",
       "  </tbody>\n",
       "</table>\n",
       "</div>"
      ],
      "text/plain": [
       "        ID   Age     Sex          Race      DeathCity      Drug_Category\n",
       "1  16-0165  30.0  Female         White        DANBURY             Heroin\n",
       "2  16-0208  23.0    Male         White      GREENWICH             Heroin\n",
       "3  13-0052  22.0    Male  Asian, Other      GREENWICH  Synthetic Opioids\n",
       "4  14-0277  23.0    Male         White        BRISTOL             Heroin\n",
       "5  12-0205  21.0  Female         White  WEST HARTFORD             Heroin"
      ]
     },
     "execution_count": 15,
     "metadata": {},
     "output_type": "execute_result"
    }
   ],
   "source": [
    "deaths_forML = deaths_nonan[['ID', 'Age', 'Sex', 'Race', 'DeathCity', 'Drug_Category'\n",
    "       ]]\n",
    "deaths_forML.head()"
   ]
  },
  {
   "cell_type": "code",
   "execution_count": null,
   "metadata": {},
   "outputs": [],
   "source": []
  }
 ],
 "metadata": {
  "kernelspec": {
   "display_name": "Python 3",
   "language": "python",
   "name": "python3"
  },
  "language_info": {
   "codemirror_mode": {
    "name": "ipython",
    "version": 3
   },
   "file_extension": ".py",
   "mimetype": "text/x-python",
   "name": "python",
   "nbconvert_exporter": "python",
   "pygments_lexer": "ipython3",
   "version": "3.7.3"
  }
 },
 "nbformat": 4,
 "nbformat_minor": 2
}
